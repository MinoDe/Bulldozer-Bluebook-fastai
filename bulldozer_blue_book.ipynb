{
  "nbformat": 4,
  "nbformat_minor": 0,
  "metadata": {
    "colab": {
      "name": "bulldozer-blue-book.ipynb",
      "version": "0.3.2",
      "provenance": [],
      "include_colab_link": true
    },
    "kernelspec": {
      "name": "python3",
      "display_name": "Python 3"
    }
  },
  "cells": [
    {
      "cell_type": "markdown",
      "metadata": {
        "id": "view-in-github",
        "colab_type": "text"
      },
      "source": [
        "<a href=\"https://colab.research.google.com/github/MinoDe/Bulldozer-Bluebook-fastai/blob/master/bulldozer_blue_book.ipynb\" target=\"_parent\"><img src=\"https://colab.research.google.com/assets/colab-badge.svg\" alt=\"Open In Colab\"/></a>"
      ]
    },
    {
      "metadata": {
        "id": "6v4HEUgHMjuJ",
        "colab_type": "code",
        "colab": {}
      },
      "cell_type": "code",
      "source": [
        "#Importing required packages.\n",
        "import pandas as pd\n",
        "import seaborn as sns\n",
        "import matplotlib.pyplot as plt\n",
        "from sklearn.ensemble import RandomForestClassifier\n",
        "from sklearn.svm import SVC\n",
        "from sklearn.linear_model import SGDClassifier\n",
        "from sklearn.metrics import confusion_matrix, classification_report\n",
        "from sklearn.preprocessing import StandardScaler, LabelEncoder\n",
        "from sklearn.model_selection import train_test_split, GridSearchCV, cross_val_score\n",
        "%matplotlib inline\n",
        "import os"
      ],
      "execution_count": 0,
      "outputs": []
    },
    {
      "metadata": {
        "id": "EfD3grBGk_b-",
        "colab_type": "code",
        "colab": {
          "base_uri": "https://localhost:8080/",
          "height": 122
        },
        "outputId": "35aded4f-1af8-483e-91ff-bed8f91a6060"
      },
      "cell_type": "code",
      "source": [
        "from google.colab import drive\n",
        "drive.mount('/content/gdrive')"
      ],
      "execution_count": 7,
      "outputs": [
        {
          "output_type": "stream",
          "text": [
            "Go to this URL in a browser: https://accounts.google.com/o/oauth2/auth?client_id=947318989803-6bn6qk8qdgf4n4g3pfee6491hc0brc4i.apps.googleusercontent.com&redirect_uri=urn%3Aietf%3Awg%3Aoauth%3A2.0%3Aoob&scope=email%20https%3A%2F%2Fwww.googleapis.com%2Fauth%2Fdocs.test%20https%3A%2F%2Fwww.googleapis.com%2Fauth%2Fdrive%20https%3A%2F%2Fwww.googleapis.com%2Fauth%2Fdrive.photos.readonly%20https%3A%2F%2Fwww.googleapis.com%2Fauth%2Fpeopleapi.readonly&response_type=code\n",
            "\n",
            "Enter your authorization code:\n",
            "··········\n",
            "Mounted at /content/gdrive\n"
          ],
          "name": "stdout"
        }
      ]
    },
    {
      "metadata": {
        "id": "J4Ymjcm9lQ6Q",
        "colab_type": "code",
        "colab": {
          "base_uri": "https://localhost:8080/",
          "height": 34
        },
        "outputId": "318dfc1d-6dab-48e1-d09f-6dfc27cdf8bf"
      },
      "cell_type": "code",
      "source": [
        "with open('/content/gdrive/My Drive/foo.txt', 'w') as f:\n",
        "  f.write('Hello Google Drive!')\n",
        "!cat /content/gdrive/My\\ Drive/foo.txt"
      ],
      "execution_count": 113,
      "outputs": [
        {
          "output_type": "stream",
          "text": [
            "Hello Google Drive!"
          ],
          "name": "stdout"
        }
      ]
    },
    {
      "metadata": {
        "id": "wcL3g8F8M96W",
        "colab_type": "code",
        "colab": {}
      },
      "cell_type": "code",
      "source": [
        "#Loading dataset\n",
        "wine = pd.read_csv('/content/gdrive/My Drive/Colab Notebooks/RedWine/winequality-red.csv')\n",
        "#!cat /content/gdrive/My Drive/Colab Notebooks/RedWine/winequality-red.csv"
      ],
      "execution_count": 0,
      "outputs": []
    },
    {
      "metadata": {
        "id": "y5bHtCGfmqeA",
        "colab_type": "code",
        "colab": {}
      },
      "cell_type": "code",
      "source": [
        "#Cell that should be run everytime we have a new VM\n",
        "!pip install fastai"
      ],
      "execution_count": 0,
      "outputs": []
    },
    {
      "metadata": {
        "id": "h03hUHxopin5",
        "colab_type": "code",
        "colab": {}
      },
      "cell_type": "code",
      "source": [
        ""
      ],
      "execution_count": 0,
      "outputs": []
    },
    {
      "metadata": {
        "id": "DGj50qylp3mk",
        "colab_type": "text"
      },
      "cell_type": "markdown",
      "source": [
        "##CLASSIFICATION"
      ]
    },
    {
      "metadata": {
        "id": "yAYV5JLfqBuB",
        "colab_type": "code",
        "colab": {}
      },
      "cell_type": "code",
      "source": [
        "#Making binary classificaion for the response variable.\n",
        "#Dividing wine as good and bad by giving the limit for the quality\n",
        "bins = (2, 6.5, 8)\n",
        "group_names = ['bad', 'good']\n",
        "wine['quality'] = pd.cut(wine['quality'], bins = bins, labels = group_names)"
      ],
      "execution_count": 0,
      "outputs": []
    },
    {
      "metadata": {
        "id": "647H9aGXqGuE",
        "colab_type": "code",
        "colab": {}
      },
      "cell_type": "code",
      "source": [
        "#Now lets assign a labels to our quality variable\n",
        "label_quality = LabelEncoder()"
      ],
      "execution_count": 0,
      "outputs": []
    },
    {
      "metadata": {
        "id": "KxiAcrPyqI2R",
        "colab_type": "code",
        "colab": {
          "base_uri": "https://localhost:8080/",
          "height": 68
        },
        "outputId": "024ba8be-24c7-478f-898b-73bd61acb02b"
      },
      "cell_type": "code",
      "source": [
        "#Bad becomes 0 and good becomes 1 \n",
        "wine['quality'] = label_quality.fit_transform(wine['quality'])\n",
        "wine['quality'].value_counts()"
      ],
      "execution_count": 18,
      "outputs": [
        {
          "output_type": "execute_result",
          "data": {
            "text/plain": [
              "0    1382\n",
              "1     217\n",
              "Name: quality, dtype: int64"
            ]
          },
          "metadata": {
            "tags": []
          },
          "execution_count": 18
        }
      ]
    },
    {
      "metadata": {
        "id": "1ru962WyqLip",
        "colab_type": "code",
        "colab": {}
      },
      "cell_type": "code",
      "source": [
        "sns.countplot(wine['quality'])"
      ],
      "execution_count": 0,
      "outputs": []
    },
    {
      "metadata": {
        "id": "y0nzCHmpqP9g",
        "colab_type": "code",
        "colab": {}
      },
      "cell_type": "code",
      "source": [
        "#Now seperate the dataset as response variable and feature variabes\n",
        "X = wine.drop('quality', axis = 1)\n",
        "y = wine['quality']"
      ],
      "execution_count": 0,
      "outputs": []
    },
    {
      "metadata": {
        "id": "KM67IxHZqVs5",
        "colab_type": "code",
        "colab": {}
      },
      "cell_type": "code",
      "source": [
        "#Train and Test splitting of data \n",
        "X_train, X_test, y_train, y_test = train_test_split(X, y, test_size = 0.2, random_state = 42)\n",
        "#Applying Standard scaling to get optimized result\n",
        "sc = StandardScaler()"
      ],
      "execution_count": 0,
      "outputs": []
    },
    {
      "metadata": {
        "id": "0-H1eXeHqX_a",
        "colab_type": "code",
        "colab": {
          "base_uri": "https://localhost:8080/",
          "height": 238
        },
        "outputId": "ea8b41a5-809b-497d-ee10-776334a7cab3"
      },
      "cell_type": "code",
      "source": [
        "X_train = sc.fit_transform(X_train)\n",
        "X_test = sc.fit_transform(X_test)\n",
        "print(X_train)"
      ],
      "execution_count": 22,
      "outputs": [
        {
          "output_type": "stream",
          "text": [
            "[[ 0.21833164  0.88971201  0.19209222 ...  1.09349989  0.45822284\n",
            "   1.12317723]\n",
            " [-1.29016623 -1.78878251  0.65275338 ... -0.40043872 -0.40119696\n",
            "   1.40827174]\n",
            " [ 1.49475291 -0.78434707  1.01104539 ... -0.07566946  0.51551749\n",
            "  -0.58738978]\n",
            " ...\n",
            " [-0.65195559  0.49909822 -1.08752211 ...  1.28836145 -0.68767023\n",
            "  -0.87248428]\n",
            " [-0.24582155 -1.84458448  0.39683051 ...  0.05423824  0.80199076\n",
            "   1.40827174]\n",
            " [-1.46422367 -1.34236676 -0.06383064 ...  0.50891521 -0.68767023\n",
            "   2.92877575]]\n"
          ],
          "name": "stdout"
        }
      ]
    },
    {
      "metadata": {
        "id": "LshT5h1aqbix",
        "colab_type": "code",
        "colab": {}
      },
      "cell_type": "code",
      "source": [
        "rfc = RandomForestClassifier(n_estimators=200)\n",
        "rfc.fit(X_train, y_train)\n",
        "pred_rfc = rfc.predict(X_test)"
      ],
      "execution_count": 0,
      "outputs": []
    },
    {
      "metadata": {
        "id": "uAneKU15qi6L",
        "colab_type": "code",
        "colab": {}
      },
      "cell_type": "code",
      "source": [
        "#Let's see how our model performed\n",
        "print(classification_report(y_test, pred_rfc))"
      ],
      "execution_count": 0,
      "outputs": []
    },
    {
      "metadata": {
        "id": "IwOYHWW5qrEF",
        "colab_type": "code",
        "colab": {}
      },
      "cell_type": "code",
      "source": [
        "!pip install fastai==0.7.0"
      ],
      "execution_count": 0,
      "outputs": []
    },
    {
      "metadata": {
        "id": "I2XF9GsKqrkp",
        "colab_type": "text"
      },
      "cell_type": "markdown",
      "source": [
        "##fastai learning\n",
        "Course from https://course.fast.ai/lessonsml1/lesson2.html\n",
        "\n"
      ]
    },
    {
      "metadata": {
        "id": "olJ4cTirq3Ci",
        "colab_type": "code",
        "colab": {}
      },
      "cell_type": "code",
      "source": [
        "from fastai.imports import *\n",
        "from fastai.structured import *"
      ],
      "execution_count": 0,
      "outputs": []
    },
    {
      "metadata": {
        "id": "1Q2aauy8s1GD",
        "colab_type": "code",
        "colab": {}
      },
      "cell_type": "code",
      "source": [
        "from pandas_summary import DataFrameSummary\n",
        "from sklearn.ensemble import RandomForestRegressor, RandomForestClassifier\n",
        "from IPython.display import display\n",
        "\n",
        "from sklearn import metrics"
      ],
      "execution_count": 0,
      "outputs": []
    },
    {
      "metadata": {
        "id": "zGAy5H_gvMaH",
        "colab_type": "code",
        "colab": {
          "base_uri": "https://localhost:8080/",
          "height": 34
        },
        "outputId": "d4547b7b-1b15-4e30-8a38-ad60e3b149a7"
      },
      "cell_type": "code",
      "source": [
        "#!mkdir -p data/bulldozers\n",
        "\n",
        "#!ls {PATH}\n"
      ],
      "execution_count": 11,
      "outputs": [
        {
          "output_type": "stream",
          "text": [
            "data\n"
          ],
          "name": "stdout"
        }
      ]
    },
    {
      "metadata": {
        "id": "ABM_XkC7xDPh",
        "colab_type": "code",
        "colab": {}
      },
      "cell_type": "code",
      "source": [
        "#!cp Train.csv data/bulldozers/\n",
        "PATH = \"/content/gdrive/My Drive/Colab Notebooks/Bulldozer-blue-book/data/\"\n",
        "df_raw = pd.read_csv(f'{PATH}Train.csv', low_memory=False,\n",
        "                    parse_dates = [\"saledate\"])"
      ],
      "execution_count": 0,
      "outputs": []
    },
    {
      "metadata": {
        "id": "S-uOS-qkxmPv",
        "colab_type": "code",
        "colab": {}
      },
      "cell_type": "code",
      "source": [
        "def display_all(df):\n",
        "  with pd.option_context(\"display.max_rows\", 1000):\n",
        "    with pd.option_context(\"display.max_columns\", 1000):\n",
        "      display(df)"
      ],
      "execution_count": 0,
      "outputs": []
    },
    {
      "metadata": {
        "id": "w4RTVXDnyGBU",
        "colab_type": "code",
        "colab": {
          "base_uri": "https://localhost:8080/",
          "height": 490
        },
        "outputId": "c8006793-35af-4a39-f97d-8fda2f7e0147"
      },
      "cell_type": "code",
      "source": [
        "display_all(df_raw.sample(7))"
      ],
      "execution_count": 24,
      "outputs": [
        {
          "output_type": "display_data",
          "data": {
            "text/html": [
              "<div>\n",
              "<style scoped>\n",
              "    .dataframe tbody tr th:only-of-type {\n",
              "        vertical-align: middle;\n",
              "    }\n",
              "\n",
              "    .dataframe tbody tr th {\n",
              "        vertical-align: top;\n",
              "    }\n",
              "\n",
              "    .dataframe thead th {\n",
              "        text-align: right;\n",
              "    }\n",
              "</style>\n",
              "<table border=\"1\" class=\"dataframe\">\n",
              "  <thead>\n",
              "    <tr style=\"text-align: right;\">\n",
              "      <th></th>\n",
              "      <th>SalesID</th>\n",
              "      <th>SalePrice</th>\n",
              "      <th>MachineID</th>\n",
              "      <th>ModelID</th>\n",
              "      <th>datasource</th>\n",
              "      <th>auctioneerID</th>\n",
              "      <th>YearMade</th>\n",
              "      <th>MachineHoursCurrentMeter</th>\n",
              "      <th>UsageBand</th>\n",
              "      <th>fiModelDesc</th>\n",
              "      <th>fiBaseModel</th>\n",
              "      <th>fiSecondaryDesc</th>\n",
              "      <th>fiModelSeries</th>\n",
              "      <th>fiModelDescriptor</th>\n",
              "      <th>ProductSize</th>\n",
              "      <th>fiProductClassDesc</th>\n",
              "      <th>state</th>\n",
              "      <th>ProductGroup</th>\n",
              "      <th>ProductGroupDesc</th>\n",
              "      <th>Drive_System</th>\n",
              "      <th>Enclosure</th>\n",
              "      <th>Forks</th>\n",
              "      <th>Pad_Type</th>\n",
              "      <th>Ride_Control</th>\n",
              "      <th>Stick</th>\n",
              "      <th>Transmission</th>\n",
              "      <th>Turbocharged</th>\n",
              "      <th>Blade_Extension</th>\n",
              "      <th>Blade_Width</th>\n",
              "      <th>Enclosure_Type</th>\n",
              "      <th>Engine_Horsepower</th>\n",
              "      <th>Hydraulics</th>\n",
              "      <th>Pushblock</th>\n",
              "      <th>Ripper</th>\n",
              "      <th>Scarifier</th>\n",
              "      <th>Tip_Control</th>\n",
              "      <th>Tire_Size</th>\n",
              "      <th>Coupler</th>\n",
              "      <th>Coupler_System</th>\n",
              "      <th>Grouser_Tracks</th>\n",
              "      <th>Hydraulics_Flow</th>\n",
              "      <th>Track_Type</th>\n",
              "      <th>Undercarriage_Pad_Width</th>\n",
              "      <th>Stick_Length</th>\n",
              "      <th>Thumb</th>\n",
              "      <th>Pattern_Changer</th>\n",
              "      <th>Grouser_Type</th>\n",
              "      <th>Backhoe_Mounting</th>\n",
              "      <th>Blade_Type</th>\n",
              "      <th>Travel_Controls</th>\n",
              "      <th>Differential_Type</th>\n",
              "      <th>Steering_Controls</th>\n",
              "      <th>saleYear</th>\n",
              "      <th>saleMonth</th>\n",
              "      <th>saleWeek</th>\n",
              "      <th>saleDay</th>\n",
              "      <th>saleDayofweek</th>\n",
              "      <th>saleDayofyear</th>\n",
              "      <th>saleIs_month_end</th>\n",
              "      <th>saleIs_month_start</th>\n",
              "      <th>saleIs_quarter_end</th>\n",
              "      <th>saleIs_quarter_start</th>\n",
              "      <th>saleIs_year_end</th>\n",
              "      <th>saleIs_year_start</th>\n",
              "      <th>saleElapsed</th>\n",
              "    </tr>\n",
              "  </thead>\n",
              "  <tbody>\n",
              "    <tr>\n",
              "      <th>370296</th>\n",
              "      <td>2635799</td>\n",
              "      <td>10.714418</td>\n",
              "      <td>1821290</td>\n",
              "      <td>4802</td>\n",
              "      <td>149</td>\n",
              "      <td>99.0</td>\n",
              "      <td>2001</td>\n",
              "      <td>0.0</td>\n",
              "      <td>NaN</td>\n",
              "      <td>744H</td>\n",
              "      <td>744</td>\n",
              "      <td>H</td>\n",
              "      <td>NaN</td>\n",
              "      <td>NaN</td>\n",
              "      <td>Medium</td>\n",
              "      <td>Wheel Loader - 225.0 to 250.0 Horsepower</td>\n",
              "      <td>California</td>\n",
              "      <td>WL</td>\n",
              "      <td>Wheel Loader</td>\n",
              "      <td>NaN</td>\n",
              "      <td>OROPS</td>\n",
              "      <td>None or Unspecified</td>\n",
              "      <td>NaN</td>\n",
              "      <td>None or Unspecified</td>\n",
              "      <td>NaN</td>\n",
              "      <td>NaN</td>\n",
              "      <td>NaN</td>\n",
              "      <td>NaN</td>\n",
              "      <td>NaN</td>\n",
              "      <td>NaN</td>\n",
              "      <td>NaN</td>\n",
              "      <td>2 Valve</td>\n",
              "      <td>NaN</td>\n",
              "      <td>NaN</td>\n",
              "      <td>NaN</td>\n",
              "      <td>NaN</td>\n",
              "      <td>None or Unspecified</td>\n",
              "      <td>None or Unspecified</td>\n",
              "      <td>NaN</td>\n",
              "      <td>NaN</td>\n",
              "      <td>NaN</td>\n",
              "      <td>NaN</td>\n",
              "      <td>NaN</td>\n",
              "      <td>NaN</td>\n",
              "      <td>NaN</td>\n",
              "      <td>NaN</td>\n",
              "      <td>NaN</td>\n",
              "      <td>NaN</td>\n",
              "      <td>NaN</td>\n",
              "      <td>NaN</td>\n",
              "      <td>Standard</td>\n",
              "      <td>Conventional</td>\n",
              "      <td>2010</td>\n",
              "      <td>12</td>\n",
              "      <td>50</td>\n",
              "      <td>17</td>\n",
              "      <td>4</td>\n",
              "      <td>351</td>\n",
              "      <td>False</td>\n",
              "      <td>False</td>\n",
              "      <td>False</td>\n",
              "      <td>False</td>\n",
              "      <td>False</td>\n",
              "      <td>False</td>\n",
              "      <td>1292544000</td>\n",
              "    </tr>\n",
              "    <tr>\n",
              "      <th>194491</th>\n",
              "      <td>1632014</td>\n",
              "      <td>10.085809</td>\n",
              "      <td>1227621</td>\n",
              "      <td>4604</td>\n",
              "      <td>132</td>\n",
              "      <td>1.0</td>\n",
              "      <td>1998</td>\n",
              "      <td>NaN</td>\n",
              "      <td>NaN</td>\n",
              "      <td>310E</td>\n",
              "      <td>310</td>\n",
              "      <td>E</td>\n",
              "      <td>NaN</td>\n",
              "      <td>NaN</td>\n",
              "      <td>NaN</td>\n",
              "      <td>Backhoe Loader - 14.0 to 15.0 Ft Standard Digg...</td>\n",
              "      <td>Arizona</td>\n",
              "      <td>BL</td>\n",
              "      <td>Backhoe Loaders</td>\n",
              "      <td>Four Wheel Drive</td>\n",
              "      <td>EROPS</td>\n",
              "      <td>None or Unspecified</td>\n",
              "      <td>None or Unspecified</td>\n",
              "      <td>No</td>\n",
              "      <td>Standard</td>\n",
              "      <td>Standard</td>\n",
              "      <td>None or Unspecified</td>\n",
              "      <td>NaN</td>\n",
              "      <td>NaN</td>\n",
              "      <td>NaN</td>\n",
              "      <td>NaN</td>\n",
              "      <td>NaN</td>\n",
              "      <td>NaN</td>\n",
              "      <td>NaN</td>\n",
              "      <td>NaN</td>\n",
              "      <td>NaN</td>\n",
              "      <td>NaN</td>\n",
              "      <td>NaN</td>\n",
              "      <td>NaN</td>\n",
              "      <td>NaN</td>\n",
              "      <td>NaN</td>\n",
              "      <td>NaN</td>\n",
              "      <td>NaN</td>\n",
              "      <td>NaN</td>\n",
              "      <td>NaN</td>\n",
              "      <td>NaN</td>\n",
              "      <td>NaN</td>\n",
              "      <td>NaN</td>\n",
              "      <td>NaN</td>\n",
              "      <td>NaN</td>\n",
              "      <td>NaN</td>\n",
              "      <td>NaN</td>\n",
              "      <td>2003</td>\n",
              "      <td>5</td>\n",
              "      <td>19</td>\n",
              "      <td>6</td>\n",
              "      <td>1</td>\n",
              "      <td>126</td>\n",
              "      <td>False</td>\n",
              "      <td>False</td>\n",
              "      <td>False</td>\n",
              "      <td>False</td>\n",
              "      <td>False</td>\n",
              "      <td>False</td>\n",
              "      <td>1052179200</td>\n",
              "    </tr>\n",
              "    <tr>\n",
              "      <th>217135</th>\n",
              "      <td>1682749</td>\n",
              "      <td>10.736397</td>\n",
              "      <td>1367545</td>\n",
              "      <td>1989</td>\n",
              "      <td>132</td>\n",
              "      <td>1.0</td>\n",
              "      <td>1000</td>\n",
              "      <td>NaN</td>\n",
              "      <td>NaN</td>\n",
              "      <td>EX200LC</td>\n",
              "      <td>EX200</td>\n",
              "      <td>NaN</td>\n",
              "      <td>NaN</td>\n",
              "      <td>LC</td>\n",
              "      <td>Large / Medium</td>\n",
              "      <td>Hydraulic Excavator, Track - 19.0 to 21.0 Metr...</td>\n",
              "      <td>Maryland</td>\n",
              "      <td>TEX</td>\n",
              "      <td>Track Excavators</td>\n",
              "      <td>NaN</td>\n",
              "      <td>EROPS</td>\n",
              "      <td>NaN</td>\n",
              "      <td>NaN</td>\n",
              "      <td>NaN</td>\n",
              "      <td>NaN</td>\n",
              "      <td>NaN</td>\n",
              "      <td>NaN</td>\n",
              "      <td>NaN</td>\n",
              "      <td>NaN</td>\n",
              "      <td>NaN</td>\n",
              "      <td>NaN</td>\n",
              "      <td>Standard</td>\n",
              "      <td>NaN</td>\n",
              "      <td>NaN</td>\n",
              "      <td>NaN</td>\n",
              "      <td>NaN</td>\n",
              "      <td>NaN</td>\n",
              "      <td>None or Unspecified</td>\n",
              "      <td>NaN</td>\n",
              "      <td>NaN</td>\n",
              "      <td>NaN</td>\n",
              "      <td>Steel</td>\n",
              "      <td>None or Unspecified</td>\n",
              "      <td>None or Unspecified</td>\n",
              "      <td>None or Unspecified</td>\n",
              "      <td>None or Unspecified</td>\n",
              "      <td>Double</td>\n",
              "      <td>NaN</td>\n",
              "      <td>NaN</td>\n",
              "      <td>NaN</td>\n",
              "      <td>NaN</td>\n",
              "      <td>NaN</td>\n",
              "      <td>2004</td>\n",
              "      <td>6</td>\n",
              "      <td>26</td>\n",
              "      <td>22</td>\n",
              "      <td>1</td>\n",
              "      <td>174</td>\n",
              "      <td>False</td>\n",
              "      <td>False</td>\n",
              "      <td>False</td>\n",
              "      <td>False</td>\n",
              "      <td>False</td>\n",
              "      <td>False</td>\n",
              "      <td>1087862400</td>\n",
              "    </tr>\n",
              "    <tr>\n",
              "      <th>147855</th>\n",
              "      <td>1520161</td>\n",
              "      <td>10.518673</td>\n",
              "      <td>651209</td>\n",
              "      <td>2758</td>\n",
              "      <td>132</td>\n",
              "      <td>1.0</td>\n",
              "      <td>1996</td>\n",
              "      <td>NaN</td>\n",
              "      <td>NaN</td>\n",
              "      <td>D5CIII</td>\n",
              "      <td>D5</td>\n",
              "      <td>C</td>\n",
              "      <td>III</td>\n",
              "      <td>NaN</td>\n",
              "      <td>NaN</td>\n",
              "      <td>Track Type Tractor, Dozer - 85.0 to 105.0 Hors...</td>\n",
              "      <td>Washington</td>\n",
              "      <td>TTT</td>\n",
              "      <td>Track Type Tractors</td>\n",
              "      <td>NaN</td>\n",
              "      <td>OROPS</td>\n",
              "      <td>NaN</td>\n",
              "      <td>NaN</td>\n",
              "      <td>NaN</td>\n",
              "      <td>NaN</td>\n",
              "      <td>Standard</td>\n",
              "      <td>NaN</td>\n",
              "      <td>NaN</td>\n",
              "      <td>NaN</td>\n",
              "      <td>NaN</td>\n",
              "      <td>NaN</td>\n",
              "      <td>4 Valve</td>\n",
              "      <td>NaN</td>\n",
              "      <td>Single Shank</td>\n",
              "      <td>NaN</td>\n",
              "      <td>NaN</td>\n",
              "      <td>NaN</td>\n",
              "      <td>NaN</td>\n",
              "      <td>NaN</td>\n",
              "      <td>NaN</td>\n",
              "      <td>NaN</td>\n",
              "      <td>NaN</td>\n",
              "      <td>NaN</td>\n",
              "      <td>NaN</td>\n",
              "      <td>NaN</td>\n",
              "      <td>NaN</td>\n",
              "      <td>NaN</td>\n",
              "      <td>None or Unspecified</td>\n",
              "      <td>PAT</td>\n",
              "      <td>None or Unspecified</td>\n",
              "      <td>NaN</td>\n",
              "      <td>NaN</td>\n",
              "      <td>2004</td>\n",
              "      <td>3</td>\n",
              "      <td>14</td>\n",
              "      <td>30</td>\n",
              "      <td>1</td>\n",
              "      <td>90</td>\n",
              "      <td>False</td>\n",
              "      <td>False</td>\n",
              "      <td>False</td>\n",
              "      <td>False</td>\n",
              "      <td>False</td>\n",
              "      <td>False</td>\n",
              "      <td>1080604800</td>\n",
              "    </tr>\n",
              "    <tr>\n",
              "      <th>271392</th>\n",
              "      <td>1810667</td>\n",
              "      <td>9.680344</td>\n",
              "      <td>1307074</td>\n",
              "      <td>9578</td>\n",
              "      <td>132</td>\n",
              "      <td>1.0</td>\n",
              "      <td>2005</td>\n",
              "      <td>NaN</td>\n",
              "      <td>NaN</td>\n",
              "      <td>S185</td>\n",
              "      <td>S185</td>\n",
              "      <td>NaN</td>\n",
              "      <td>NaN</td>\n",
              "      <td>NaN</td>\n",
              "      <td>NaN</td>\n",
              "      <td>Skid Steer Loader - Unidentified</td>\n",
              "      <td>Illinois</td>\n",
              "      <td>SSL</td>\n",
              "      <td>Skid Steer Loaders</td>\n",
              "      <td>NaN</td>\n",
              "      <td>OROPS</td>\n",
              "      <td>None or Unspecified</td>\n",
              "      <td>NaN</td>\n",
              "      <td>NaN</td>\n",
              "      <td>NaN</td>\n",
              "      <td>NaN</td>\n",
              "      <td>NaN</td>\n",
              "      <td>NaN</td>\n",
              "      <td>NaN</td>\n",
              "      <td>NaN</td>\n",
              "      <td>NaN</td>\n",
              "      <td>Standard</td>\n",
              "      <td>NaN</td>\n",
              "      <td>NaN</td>\n",
              "      <td>NaN</td>\n",
              "      <td>NaN</td>\n",
              "      <td>NaN</td>\n",
              "      <td>None or Unspecified</td>\n",
              "      <td>None or Unspecified</td>\n",
              "      <td>None or Unspecified</td>\n",
              "      <td>Standard</td>\n",
              "      <td>NaN</td>\n",
              "      <td>NaN</td>\n",
              "      <td>NaN</td>\n",
              "      <td>NaN</td>\n",
              "      <td>NaN</td>\n",
              "      <td>NaN</td>\n",
              "      <td>NaN</td>\n",
              "      <td>NaN</td>\n",
              "      <td>NaN</td>\n",
              "      <td>NaN</td>\n",
              "      <td>NaN</td>\n",
              "      <td>2008</td>\n",
              "      <td>9</td>\n",
              "      <td>38</td>\n",
              "      <td>17</td>\n",
              "      <td>2</td>\n",
              "      <td>261</td>\n",
              "      <td>False</td>\n",
              "      <td>False</td>\n",
              "      <td>False</td>\n",
              "      <td>False</td>\n",
              "      <td>False</td>\n",
              "      <td>False</td>\n",
              "      <td>1221609600</td>\n",
              "    </tr>\n",
              "    <tr>\n",
              "      <th>237754</th>\n",
              "      <td>1739034</td>\n",
              "      <td>9.472705</td>\n",
              "      <td>1545148</td>\n",
              "      <td>9060</td>\n",
              "      <td>132</td>\n",
              "      <td>2.0</td>\n",
              "      <td>1000</td>\n",
              "      <td>NaN</td>\n",
              "      <td>NaN</td>\n",
              "      <td>PC40</td>\n",
              "      <td>PC40</td>\n",
              "      <td>NaN</td>\n",
              "      <td>NaN</td>\n",
              "      <td>NaN</td>\n",
              "      <td>Mini</td>\n",
              "      <td>Hydraulic Excavator, Track - 3.0 to 4.0 Metric...</td>\n",
              "      <td>Florida</td>\n",
              "      <td>TEX</td>\n",
              "      <td>Track Excavators</td>\n",
              "      <td>NaN</td>\n",
              "      <td>EROPS</td>\n",
              "      <td>NaN</td>\n",
              "      <td>NaN</td>\n",
              "      <td>NaN</td>\n",
              "      <td>NaN</td>\n",
              "      <td>NaN</td>\n",
              "      <td>NaN</td>\n",
              "      <td>NaN</td>\n",
              "      <td>NaN</td>\n",
              "      <td>NaN</td>\n",
              "      <td>NaN</td>\n",
              "      <td>Standard</td>\n",
              "      <td>NaN</td>\n",
              "      <td>NaN</td>\n",
              "      <td>NaN</td>\n",
              "      <td>NaN</td>\n",
              "      <td>NaN</td>\n",
              "      <td>None or Unspecified</td>\n",
              "      <td>NaN</td>\n",
              "      <td>NaN</td>\n",
              "      <td>NaN</td>\n",
              "      <td>Rubber</td>\n",
              "      <td>None or Unspecified</td>\n",
              "      <td>None or Unspecified</td>\n",
              "      <td>None or Unspecified</td>\n",
              "      <td>None or Unspecified</td>\n",
              "      <td>Double</td>\n",
              "      <td>NaN</td>\n",
              "      <td>NaN</td>\n",
              "      <td>NaN</td>\n",
              "      <td>NaN</td>\n",
              "      <td>NaN</td>\n",
              "      <td>2005</td>\n",
              "      <td>2</td>\n",
              "      <td>5</td>\n",
              "      <td>4</td>\n",
              "      <td>4</td>\n",
              "      <td>35</td>\n",
              "      <td>False</td>\n",
              "      <td>False</td>\n",
              "      <td>False</td>\n",
              "      <td>False</td>\n",
              "      <td>False</td>\n",
              "      <td>False</td>\n",
              "      <td>1107475200</td>\n",
              "    </tr>\n",
              "    <tr>\n",
              "      <th>163816</th>\n",
              "      <td>1586546</td>\n",
              "      <td>10.518673</td>\n",
              "      <td>1177952</td>\n",
              "      <td>11399</td>\n",
              "      <td>132</td>\n",
              "      <td>1.0</td>\n",
              "      <td>2005</td>\n",
              "      <td>2148.0</td>\n",
              "      <td>Medium</td>\n",
              "      <td>650JLT</td>\n",
              "      <td>650</td>\n",
              "      <td>J</td>\n",
              "      <td>NaN</td>\n",
              "      <td>LT</td>\n",
              "      <td>NaN</td>\n",
              "      <td>Track Type Tractor, Dozer - 85.0 to 105.0 Hors...</td>\n",
              "      <td>Georgia</td>\n",
              "      <td>TTT</td>\n",
              "      <td>Track Type Tractors</td>\n",
              "      <td>NaN</td>\n",
              "      <td>OROPS</td>\n",
              "      <td>NaN</td>\n",
              "      <td>NaN</td>\n",
              "      <td>NaN</td>\n",
              "      <td>NaN</td>\n",
              "      <td>Standard</td>\n",
              "      <td>NaN</td>\n",
              "      <td>NaN</td>\n",
              "      <td>NaN</td>\n",
              "      <td>NaN</td>\n",
              "      <td>NaN</td>\n",
              "      <td>2 Valve</td>\n",
              "      <td>NaN</td>\n",
              "      <td>None or Unspecified</td>\n",
              "      <td>NaN</td>\n",
              "      <td>NaN</td>\n",
              "      <td>NaN</td>\n",
              "      <td>NaN</td>\n",
              "      <td>NaN</td>\n",
              "      <td>NaN</td>\n",
              "      <td>NaN</td>\n",
              "      <td>NaN</td>\n",
              "      <td>NaN</td>\n",
              "      <td>NaN</td>\n",
              "      <td>NaN</td>\n",
              "      <td>NaN</td>\n",
              "      <td>NaN</td>\n",
              "      <td>None or Unspecified</td>\n",
              "      <td>PAT</td>\n",
              "      <td>None or Unspecified</td>\n",
              "      <td>NaN</td>\n",
              "      <td>NaN</td>\n",
              "      <td>2009</td>\n",
              "      <td>9</td>\n",
              "      <td>37</td>\n",
              "      <td>10</td>\n",
              "      <td>3</td>\n",
              "      <td>253</td>\n",
              "      <td>False</td>\n",
              "      <td>False</td>\n",
              "      <td>False</td>\n",
              "      <td>False</td>\n",
              "      <td>False</td>\n",
              "      <td>False</td>\n",
              "      <td>1252540800</td>\n",
              "    </tr>\n",
              "  </tbody>\n",
              "</table>\n",
              "</div>"
            ],
            "text/plain": [
              "        SalesID  SalePrice  MachineID  ModelID  datasource  auctioneerID  \\\n",
              "370296  2635799  10.714418    1821290     4802         149          99.0   \n",
              "194491  1632014  10.085809    1227621     4604         132           1.0   \n",
              "217135  1682749  10.736397    1367545     1989         132           1.0   \n",
              "147855  1520161  10.518673     651209     2758         132           1.0   \n",
              "271392  1810667   9.680344    1307074     9578         132           1.0   \n",
              "237754  1739034   9.472705    1545148     9060         132           2.0   \n",
              "163816  1586546  10.518673    1177952    11399         132           1.0   \n",
              "\n",
              "        YearMade  MachineHoursCurrentMeter UsageBand fiModelDesc fiBaseModel  \\\n",
              "370296      2001                       0.0       NaN        744H         744   \n",
              "194491      1998                       NaN       NaN        310E         310   \n",
              "217135      1000                       NaN       NaN     EX200LC       EX200   \n",
              "147855      1996                       NaN       NaN      D5CIII          D5   \n",
              "271392      2005                       NaN       NaN        S185        S185   \n",
              "237754      1000                       NaN       NaN        PC40        PC40   \n",
              "163816      2005                    2148.0    Medium      650JLT         650   \n",
              "\n",
              "       fiSecondaryDesc fiModelSeries fiModelDescriptor     ProductSize  \\\n",
              "370296               H           NaN               NaN          Medium   \n",
              "194491               E           NaN               NaN             NaN   \n",
              "217135             NaN           NaN                LC  Large / Medium   \n",
              "147855               C           III               NaN             NaN   \n",
              "271392             NaN           NaN               NaN             NaN   \n",
              "237754             NaN           NaN               NaN            Mini   \n",
              "163816               J           NaN                LT             NaN   \n",
              "\n",
              "                                       fiProductClassDesc       state  \\\n",
              "370296           Wheel Loader - 225.0 to 250.0 Horsepower  California   \n",
              "194491  Backhoe Loader - 14.0 to 15.0 Ft Standard Digg...     Arizona   \n",
              "217135  Hydraulic Excavator, Track - 19.0 to 21.0 Metr...    Maryland   \n",
              "147855  Track Type Tractor, Dozer - 85.0 to 105.0 Hors...  Washington   \n",
              "271392                   Skid Steer Loader - Unidentified    Illinois   \n",
              "237754  Hydraulic Excavator, Track - 3.0 to 4.0 Metric...     Florida   \n",
              "163816  Track Type Tractor, Dozer - 85.0 to 105.0 Hors...     Georgia   \n",
              "\n",
              "       ProductGroup     ProductGroupDesc      Drive_System Enclosure  \\\n",
              "370296           WL         Wheel Loader               NaN     OROPS   \n",
              "194491           BL      Backhoe Loaders  Four Wheel Drive     EROPS   \n",
              "217135          TEX     Track Excavators               NaN     EROPS   \n",
              "147855          TTT  Track Type Tractors               NaN     OROPS   \n",
              "271392          SSL   Skid Steer Loaders               NaN     OROPS   \n",
              "237754          TEX     Track Excavators               NaN     EROPS   \n",
              "163816          TTT  Track Type Tractors               NaN     OROPS   \n",
              "\n",
              "                      Forks             Pad_Type         Ride_Control  \\\n",
              "370296  None or Unspecified                  NaN  None or Unspecified   \n",
              "194491  None or Unspecified  None or Unspecified                   No   \n",
              "217135                  NaN                  NaN                  NaN   \n",
              "147855                  NaN                  NaN                  NaN   \n",
              "271392  None or Unspecified                  NaN                  NaN   \n",
              "237754                  NaN                  NaN                  NaN   \n",
              "163816                  NaN                  NaN                  NaN   \n",
              "\n",
              "           Stick Transmission         Turbocharged Blade_Extension  \\\n",
              "370296       NaN          NaN                  NaN             NaN   \n",
              "194491  Standard     Standard  None or Unspecified             NaN   \n",
              "217135       NaN          NaN                  NaN             NaN   \n",
              "147855       NaN     Standard                  NaN             NaN   \n",
              "271392       NaN          NaN                  NaN             NaN   \n",
              "237754       NaN          NaN                  NaN             NaN   \n",
              "163816       NaN     Standard                  NaN             NaN   \n",
              "\n",
              "       Blade_Width Enclosure_Type Engine_Horsepower Hydraulics Pushblock  \\\n",
              "370296         NaN            NaN               NaN    2 Valve       NaN   \n",
              "194491         NaN            NaN               NaN        NaN       NaN   \n",
              "217135         NaN            NaN               NaN   Standard       NaN   \n",
              "147855         NaN            NaN               NaN    4 Valve       NaN   \n",
              "271392         NaN            NaN               NaN   Standard       NaN   \n",
              "237754         NaN            NaN               NaN   Standard       NaN   \n",
              "163816         NaN            NaN               NaN    2 Valve       NaN   \n",
              "\n",
              "                     Ripper Scarifier Tip_Control            Tire_Size  \\\n",
              "370296                  NaN       NaN         NaN  None or Unspecified   \n",
              "194491                  NaN       NaN         NaN                  NaN   \n",
              "217135                  NaN       NaN         NaN                  NaN   \n",
              "147855         Single Shank       NaN         NaN                  NaN   \n",
              "271392                  NaN       NaN         NaN                  NaN   \n",
              "237754                  NaN       NaN         NaN                  NaN   \n",
              "163816  None or Unspecified       NaN         NaN                  NaN   \n",
              "\n",
              "                    Coupler       Coupler_System       Grouser_Tracks  \\\n",
              "370296  None or Unspecified                  NaN                  NaN   \n",
              "194491                  NaN                  NaN                  NaN   \n",
              "217135  None or Unspecified                  NaN                  NaN   \n",
              "147855                  NaN                  NaN                  NaN   \n",
              "271392  None or Unspecified  None or Unspecified  None or Unspecified   \n",
              "237754  None or Unspecified                  NaN                  NaN   \n",
              "163816                  NaN                  NaN                  NaN   \n",
              "\n",
              "       Hydraulics_Flow Track_Type Undercarriage_Pad_Width  \\\n",
              "370296             NaN        NaN                     NaN   \n",
              "194491             NaN        NaN                     NaN   \n",
              "217135             NaN      Steel     None or Unspecified   \n",
              "147855             NaN        NaN                     NaN   \n",
              "271392        Standard        NaN                     NaN   \n",
              "237754             NaN     Rubber     None or Unspecified   \n",
              "163816             NaN        NaN                     NaN   \n",
              "\n",
              "               Stick_Length                Thumb      Pattern_Changer  \\\n",
              "370296                  NaN                  NaN                  NaN   \n",
              "194491                  NaN                  NaN                  NaN   \n",
              "217135  None or Unspecified  None or Unspecified  None or Unspecified   \n",
              "147855                  NaN                  NaN                  NaN   \n",
              "271392                  NaN                  NaN                  NaN   \n",
              "237754  None or Unspecified  None or Unspecified  None or Unspecified   \n",
              "163816                  NaN                  NaN                  NaN   \n",
              "\n",
              "       Grouser_Type     Backhoe_Mounting Blade_Type      Travel_Controls  \\\n",
              "370296          NaN                  NaN        NaN                  NaN   \n",
              "194491          NaN                  NaN        NaN                  NaN   \n",
              "217135       Double                  NaN        NaN                  NaN   \n",
              "147855          NaN  None or Unspecified        PAT  None or Unspecified   \n",
              "271392          NaN                  NaN        NaN                  NaN   \n",
              "237754       Double                  NaN        NaN                  NaN   \n",
              "163816          NaN  None or Unspecified        PAT  None or Unspecified   \n",
              "\n",
              "       Differential_Type Steering_Controls  saleYear  saleMonth  saleWeek  \\\n",
              "370296          Standard      Conventional      2010         12        50   \n",
              "194491               NaN               NaN      2003          5        19   \n",
              "217135               NaN               NaN      2004          6        26   \n",
              "147855               NaN               NaN      2004          3        14   \n",
              "271392               NaN               NaN      2008          9        38   \n",
              "237754               NaN               NaN      2005          2         5   \n",
              "163816               NaN               NaN      2009          9        37   \n",
              "\n",
              "        saleDay  saleDayofweek  saleDayofyear  saleIs_month_end  \\\n",
              "370296       17              4            351             False   \n",
              "194491        6              1            126             False   \n",
              "217135       22              1            174             False   \n",
              "147855       30              1             90             False   \n",
              "271392       17              2            261             False   \n",
              "237754        4              4             35             False   \n",
              "163816       10              3            253             False   \n",
              "\n",
              "        saleIs_month_start  saleIs_quarter_end  saleIs_quarter_start  \\\n",
              "370296               False               False                 False   \n",
              "194491               False               False                 False   \n",
              "217135               False               False                 False   \n",
              "147855               False               False                 False   \n",
              "271392               False               False                 False   \n",
              "237754               False               False                 False   \n",
              "163816               False               False                 False   \n",
              "\n",
              "        saleIs_year_end  saleIs_year_start  saleElapsed  \n",
              "370296            False              False   1292544000  \n",
              "194491            False              False   1052179200  \n",
              "217135            False              False   1087862400  \n",
              "147855            False              False   1080604800  \n",
              "271392            False              False   1221609600  \n",
              "237754            False              False   1107475200  \n",
              "163816            False              False   1252540800  "
            ]
          },
          "metadata": {
            "tags": []
          }
        }
      ]
    },
    {
      "metadata": {
        "id": "JfC5zBt0y9-v",
        "colab_type": "code",
        "colab": {}
      },
      "cell_type": "code",
      "source": [
        "df_raw.SalePrice = np.log(df_raw.SalePrice)"
      ],
      "execution_count": 0,
      "outputs": []
    },
    {
      "metadata": {
        "id": "djU7Y2WKzRo1",
        "colab_type": "text"
      },
      "cell_type": "markdown",
      "source": [
        "##PreProcessing\n",
        "Random Forest"
      ]
    },
    {
      "metadata": {
        "id": "SS0n_blQzWXf",
        "colab_type": "code",
        "colab": {}
      },
      "cell_type": "code",
      "source": [
        "#m = RandomForestRegressor(n_jobs = -1)\n",
        "#m.fit(df_raw.drop('SalePrice', axis=1), df_raw.SalePrice)"
      ],
      "execution_count": 0,
      "outputs": []
    },
    {
      "metadata": {
        "id": "1SUd0sOr1Eb1",
        "colab_type": "code",
        "colab": {
          "base_uri": "https://localhost:8080/",
          "height": 1339
        },
        "outputId": "7d179166-2d03-49d2-97b6-cce0a2422ef0"
      },
      "cell_type": "code",
      "source": [
        "add_datepart(df_raw, 'saledate')"
      ],
      "execution_count": 27,
      "outputs": [
        {
          "output_type": "error",
          "ename": "KeyError",
          "evalue": "ignored",
          "traceback": [
            "\u001b[0;31m---------------------------------------------------------------------------\u001b[0m",
            "\u001b[0;31mKeyError\u001b[0m                                  Traceback (most recent call last)",
            "\u001b[0;32m/usr/local/lib/python3.6/dist-packages/pandas/core/indexes/base.py\u001b[0m in \u001b[0;36mget_loc\u001b[0;34m(self, key, method, tolerance)\u001b[0m\n\u001b[1;32m   2524\u001b[0m             \u001b[0;32mtry\u001b[0m\u001b[0;34m:\u001b[0m\u001b[0;34m\u001b[0m\u001b[0;34m\u001b[0m\u001b[0m\n\u001b[0;32m-> 2525\u001b[0;31m                 \u001b[0;32mreturn\u001b[0m \u001b[0mself\u001b[0m\u001b[0;34m.\u001b[0m\u001b[0m_engine\u001b[0m\u001b[0;34m.\u001b[0m\u001b[0mget_loc\u001b[0m\u001b[0;34m(\u001b[0m\u001b[0mkey\u001b[0m\u001b[0;34m)\u001b[0m\u001b[0;34m\u001b[0m\u001b[0;34m\u001b[0m\u001b[0m\n\u001b[0m\u001b[1;32m   2526\u001b[0m             \u001b[0;32mexcept\u001b[0m \u001b[0mKeyError\u001b[0m\u001b[0;34m:\u001b[0m\u001b[0;34m\u001b[0m\u001b[0;34m\u001b[0m\u001b[0m\n",
            "\u001b[0;32mpandas/_libs/index.pyx\u001b[0m in \u001b[0;36mpandas._libs.index.IndexEngine.get_loc\u001b[0;34m()\u001b[0m\n",
            "\u001b[0;32mpandas/_libs/index.pyx\u001b[0m in \u001b[0;36mpandas._libs.index.IndexEngine.get_loc\u001b[0;34m()\u001b[0m\n",
            "\u001b[0;32mpandas/_libs/hashtable_class_helper.pxi\u001b[0m in \u001b[0;36mpandas._libs.hashtable.PyObjectHashTable.get_item\u001b[0;34m()\u001b[0m\n",
            "\u001b[0;32mpandas/_libs/hashtable_class_helper.pxi\u001b[0m in \u001b[0;36mpandas._libs.hashtable.PyObjectHashTable.get_item\u001b[0;34m()\u001b[0m\n",
            "\u001b[0;31mKeyError\u001b[0m: 'saledate'",
            "\nDuring handling of the above exception, another exception occurred:\n",
            "\u001b[0;31mKeyError\u001b[0m                                  Traceback (most recent call last)",
            "\u001b[0;32m<ipython-input-27-57df5a02ab64>\u001b[0m in \u001b[0;36m<module>\u001b[0;34m()\u001b[0m\n\u001b[0;32m----> 1\u001b[0;31m \u001b[0madd_datepart\u001b[0m\u001b[0;34m(\u001b[0m\u001b[0mdf_raw\u001b[0m\u001b[0;34m,\u001b[0m \u001b[0;34m'saledate'\u001b[0m\u001b[0;34m)\u001b[0m\u001b[0;34m\u001b[0m\u001b[0;34m\u001b[0m\u001b[0m\n\u001b[0m",
            "\u001b[0;32m/usr/local/lib/python3.6/dist-packages/fastai/structured.py\u001b[0m in \u001b[0;36madd_datepart\u001b[0;34m(df, fldname, drop, time)\u001b[0m\n\u001b[1;32m    105\u001b[0m     \u001b[0;36m2\u001b[0m   \u001b[0;36m2000\u001b[0m  \u001b[0;36m3\u001b[0m      \u001b[0;36m11\u001b[0m    \u001b[0;36m13\u001b[0m   \u001b[0;36m0\u001b[0m          \u001b[0;36m73\u001b[0m         \u001b[0;32mFalse\u001b[0m         \u001b[0;32mFalse\u001b[0m           \u001b[0;32mFalse\u001b[0m           \u001b[0;32mFalse\u001b[0m             \u001b[0;32mFalse\u001b[0m        \u001b[0;32mFalse\u001b[0m          \u001b[0;36m952905600\u001b[0m\u001b[0;34m\u001b[0m\u001b[0;34m\u001b[0m\u001b[0m\n\u001b[1;32m    106\u001b[0m     \"\"\"\n\u001b[0;32m--> 107\u001b[0;31m     \u001b[0mfld\u001b[0m \u001b[0;34m=\u001b[0m \u001b[0mdf\u001b[0m\u001b[0;34m[\u001b[0m\u001b[0mfldname\u001b[0m\u001b[0;34m]\u001b[0m\u001b[0;34m\u001b[0m\u001b[0;34m\u001b[0m\u001b[0m\n\u001b[0m\u001b[1;32m    108\u001b[0m     \u001b[0;32mif\u001b[0m \u001b[0;32mnot\u001b[0m \u001b[0mnp\u001b[0m\u001b[0;34m.\u001b[0m\u001b[0missubdtype\u001b[0m\u001b[0;34m(\u001b[0m\u001b[0mfld\u001b[0m\u001b[0;34m.\u001b[0m\u001b[0mdtype\u001b[0m\u001b[0;34m,\u001b[0m \u001b[0mnp\u001b[0m\u001b[0;34m.\u001b[0m\u001b[0mdatetime64\u001b[0m\u001b[0;34m)\u001b[0m\u001b[0;34m:\u001b[0m\u001b[0;34m\u001b[0m\u001b[0;34m\u001b[0m\u001b[0m\n\u001b[1;32m    109\u001b[0m         \u001b[0mdf\u001b[0m\u001b[0;34m[\u001b[0m\u001b[0mfldname\u001b[0m\u001b[0;34m]\u001b[0m \u001b[0;34m=\u001b[0m \u001b[0mfld\u001b[0m \u001b[0;34m=\u001b[0m \u001b[0mpd\u001b[0m\u001b[0;34m.\u001b[0m\u001b[0mto_datetime\u001b[0m\u001b[0;34m(\u001b[0m\u001b[0mfld\u001b[0m\u001b[0;34m,\u001b[0m \u001b[0minfer_datetime_format\u001b[0m\u001b[0;34m=\u001b[0m\u001b[0;32mTrue\u001b[0m\u001b[0;34m)\u001b[0m\u001b[0;34m\u001b[0m\u001b[0;34m\u001b[0m\u001b[0m\n",
            "\u001b[0;32m/usr/local/lib/python3.6/dist-packages/pandas/core/frame.py\u001b[0m in \u001b[0;36m__getitem__\u001b[0;34m(self, key)\u001b[0m\n\u001b[1;32m   2137\u001b[0m             \u001b[0;32mreturn\u001b[0m \u001b[0mself\u001b[0m\u001b[0;34m.\u001b[0m\u001b[0m_getitem_multilevel\u001b[0m\u001b[0;34m(\u001b[0m\u001b[0mkey\u001b[0m\u001b[0;34m)\u001b[0m\u001b[0;34m\u001b[0m\u001b[0;34m\u001b[0m\u001b[0m\n\u001b[1;32m   2138\u001b[0m         \u001b[0;32melse\u001b[0m\u001b[0;34m:\u001b[0m\u001b[0;34m\u001b[0m\u001b[0;34m\u001b[0m\u001b[0m\n\u001b[0;32m-> 2139\u001b[0;31m             \u001b[0;32mreturn\u001b[0m \u001b[0mself\u001b[0m\u001b[0;34m.\u001b[0m\u001b[0m_getitem_column\u001b[0m\u001b[0;34m(\u001b[0m\u001b[0mkey\u001b[0m\u001b[0;34m)\u001b[0m\u001b[0;34m\u001b[0m\u001b[0;34m\u001b[0m\u001b[0m\n\u001b[0m\u001b[1;32m   2140\u001b[0m \u001b[0;34m\u001b[0m\u001b[0m\n\u001b[1;32m   2141\u001b[0m     \u001b[0;32mdef\u001b[0m \u001b[0m_getitem_column\u001b[0m\u001b[0;34m(\u001b[0m\u001b[0mself\u001b[0m\u001b[0;34m,\u001b[0m \u001b[0mkey\u001b[0m\u001b[0;34m)\u001b[0m\u001b[0;34m:\u001b[0m\u001b[0;34m\u001b[0m\u001b[0;34m\u001b[0m\u001b[0m\n",
            "\u001b[0;32m/usr/local/lib/python3.6/dist-packages/pandas/core/frame.py\u001b[0m in \u001b[0;36m_getitem_column\u001b[0;34m(self, key)\u001b[0m\n\u001b[1;32m   2144\u001b[0m         \u001b[0;31m# get column\u001b[0m\u001b[0;34m\u001b[0m\u001b[0;34m\u001b[0m\u001b[0;34m\u001b[0m\u001b[0m\n\u001b[1;32m   2145\u001b[0m         \u001b[0;32mif\u001b[0m \u001b[0mself\u001b[0m\u001b[0;34m.\u001b[0m\u001b[0mcolumns\u001b[0m\u001b[0;34m.\u001b[0m\u001b[0mis_unique\u001b[0m\u001b[0;34m:\u001b[0m\u001b[0;34m\u001b[0m\u001b[0;34m\u001b[0m\u001b[0m\n\u001b[0;32m-> 2146\u001b[0;31m             \u001b[0;32mreturn\u001b[0m \u001b[0mself\u001b[0m\u001b[0;34m.\u001b[0m\u001b[0m_get_item_cache\u001b[0m\u001b[0;34m(\u001b[0m\u001b[0mkey\u001b[0m\u001b[0;34m)\u001b[0m\u001b[0;34m\u001b[0m\u001b[0;34m\u001b[0m\u001b[0m\n\u001b[0m\u001b[1;32m   2147\u001b[0m \u001b[0;34m\u001b[0m\u001b[0m\n\u001b[1;32m   2148\u001b[0m         \u001b[0;31m# duplicate columns & possible reduce dimensionality\u001b[0m\u001b[0;34m\u001b[0m\u001b[0;34m\u001b[0m\u001b[0;34m\u001b[0m\u001b[0m\n",
            "\u001b[0;32m/usr/local/lib/python3.6/dist-packages/pandas/core/generic.py\u001b[0m in \u001b[0;36m_get_item_cache\u001b[0;34m(self, item)\u001b[0m\n\u001b[1;32m   1840\u001b[0m         \u001b[0mres\u001b[0m \u001b[0;34m=\u001b[0m \u001b[0mcache\u001b[0m\u001b[0;34m.\u001b[0m\u001b[0mget\u001b[0m\u001b[0;34m(\u001b[0m\u001b[0mitem\u001b[0m\u001b[0;34m)\u001b[0m\u001b[0;34m\u001b[0m\u001b[0;34m\u001b[0m\u001b[0m\n\u001b[1;32m   1841\u001b[0m         \u001b[0;32mif\u001b[0m \u001b[0mres\u001b[0m \u001b[0;32mis\u001b[0m \u001b[0;32mNone\u001b[0m\u001b[0;34m:\u001b[0m\u001b[0;34m\u001b[0m\u001b[0;34m\u001b[0m\u001b[0m\n\u001b[0;32m-> 1842\u001b[0;31m             \u001b[0mvalues\u001b[0m \u001b[0;34m=\u001b[0m \u001b[0mself\u001b[0m\u001b[0;34m.\u001b[0m\u001b[0m_data\u001b[0m\u001b[0;34m.\u001b[0m\u001b[0mget\u001b[0m\u001b[0;34m(\u001b[0m\u001b[0mitem\u001b[0m\u001b[0;34m)\u001b[0m\u001b[0;34m\u001b[0m\u001b[0;34m\u001b[0m\u001b[0m\n\u001b[0m\u001b[1;32m   1843\u001b[0m             \u001b[0mres\u001b[0m \u001b[0;34m=\u001b[0m \u001b[0mself\u001b[0m\u001b[0;34m.\u001b[0m\u001b[0m_box_item_values\u001b[0m\u001b[0;34m(\u001b[0m\u001b[0mitem\u001b[0m\u001b[0;34m,\u001b[0m \u001b[0mvalues\u001b[0m\u001b[0;34m)\u001b[0m\u001b[0;34m\u001b[0m\u001b[0;34m\u001b[0m\u001b[0m\n\u001b[1;32m   1844\u001b[0m             \u001b[0mcache\u001b[0m\u001b[0;34m[\u001b[0m\u001b[0mitem\u001b[0m\u001b[0;34m]\u001b[0m \u001b[0;34m=\u001b[0m \u001b[0mres\u001b[0m\u001b[0;34m\u001b[0m\u001b[0;34m\u001b[0m\u001b[0m\n",
            "\u001b[0;32m/usr/local/lib/python3.6/dist-packages/pandas/core/internals.py\u001b[0m in \u001b[0;36mget\u001b[0;34m(self, item, fastpath)\u001b[0m\n\u001b[1;32m   3841\u001b[0m \u001b[0;34m\u001b[0m\u001b[0m\n\u001b[1;32m   3842\u001b[0m             \u001b[0;32mif\u001b[0m \u001b[0;32mnot\u001b[0m \u001b[0misna\u001b[0m\u001b[0;34m(\u001b[0m\u001b[0mitem\u001b[0m\u001b[0;34m)\u001b[0m\u001b[0;34m:\u001b[0m\u001b[0;34m\u001b[0m\u001b[0;34m\u001b[0m\u001b[0m\n\u001b[0;32m-> 3843\u001b[0;31m                 \u001b[0mloc\u001b[0m \u001b[0;34m=\u001b[0m \u001b[0mself\u001b[0m\u001b[0;34m.\u001b[0m\u001b[0mitems\u001b[0m\u001b[0;34m.\u001b[0m\u001b[0mget_loc\u001b[0m\u001b[0;34m(\u001b[0m\u001b[0mitem\u001b[0m\u001b[0;34m)\u001b[0m\u001b[0;34m\u001b[0m\u001b[0;34m\u001b[0m\u001b[0m\n\u001b[0m\u001b[1;32m   3844\u001b[0m             \u001b[0;32melse\u001b[0m\u001b[0;34m:\u001b[0m\u001b[0;34m\u001b[0m\u001b[0;34m\u001b[0m\u001b[0m\n\u001b[1;32m   3845\u001b[0m                 \u001b[0mindexer\u001b[0m \u001b[0;34m=\u001b[0m \u001b[0mnp\u001b[0m\u001b[0;34m.\u001b[0m\u001b[0marange\u001b[0m\u001b[0;34m(\u001b[0m\u001b[0mlen\u001b[0m\u001b[0;34m(\u001b[0m\u001b[0mself\u001b[0m\u001b[0;34m.\u001b[0m\u001b[0mitems\u001b[0m\u001b[0;34m)\u001b[0m\u001b[0;34m)\u001b[0m\u001b[0;34m[\u001b[0m\u001b[0misna\u001b[0m\u001b[0;34m(\u001b[0m\u001b[0mself\u001b[0m\u001b[0;34m.\u001b[0m\u001b[0mitems\u001b[0m\u001b[0;34m)\u001b[0m\u001b[0;34m]\u001b[0m\u001b[0;34m\u001b[0m\u001b[0;34m\u001b[0m\u001b[0m\n",
            "\u001b[0;32m/usr/local/lib/python3.6/dist-packages/pandas/core/indexes/base.py\u001b[0m in \u001b[0;36mget_loc\u001b[0;34m(self, key, method, tolerance)\u001b[0m\n\u001b[1;32m   2525\u001b[0m                 \u001b[0;32mreturn\u001b[0m \u001b[0mself\u001b[0m\u001b[0;34m.\u001b[0m\u001b[0m_engine\u001b[0m\u001b[0;34m.\u001b[0m\u001b[0mget_loc\u001b[0m\u001b[0;34m(\u001b[0m\u001b[0mkey\u001b[0m\u001b[0;34m)\u001b[0m\u001b[0;34m\u001b[0m\u001b[0;34m\u001b[0m\u001b[0m\n\u001b[1;32m   2526\u001b[0m             \u001b[0;32mexcept\u001b[0m \u001b[0mKeyError\u001b[0m\u001b[0;34m:\u001b[0m\u001b[0;34m\u001b[0m\u001b[0;34m\u001b[0m\u001b[0m\n\u001b[0;32m-> 2527\u001b[0;31m                 \u001b[0;32mreturn\u001b[0m \u001b[0mself\u001b[0m\u001b[0;34m.\u001b[0m\u001b[0m_engine\u001b[0m\u001b[0;34m.\u001b[0m\u001b[0mget_loc\u001b[0m\u001b[0;34m(\u001b[0m\u001b[0mself\u001b[0m\u001b[0;34m.\u001b[0m\u001b[0m_maybe_cast_indexer\u001b[0m\u001b[0;34m(\u001b[0m\u001b[0mkey\u001b[0m\u001b[0;34m)\u001b[0m\u001b[0;34m)\u001b[0m\u001b[0;34m\u001b[0m\u001b[0;34m\u001b[0m\u001b[0m\n\u001b[0m\u001b[1;32m   2528\u001b[0m \u001b[0;34m\u001b[0m\u001b[0m\n\u001b[1;32m   2529\u001b[0m         \u001b[0mindexer\u001b[0m \u001b[0;34m=\u001b[0m \u001b[0mself\u001b[0m\u001b[0;34m.\u001b[0m\u001b[0mget_indexer\u001b[0m\u001b[0;34m(\u001b[0m\u001b[0;34m[\u001b[0m\u001b[0mkey\u001b[0m\u001b[0;34m]\u001b[0m\u001b[0;34m,\u001b[0m \u001b[0mmethod\u001b[0m\u001b[0;34m=\u001b[0m\u001b[0mmethod\u001b[0m\u001b[0;34m,\u001b[0m \u001b[0mtolerance\u001b[0m\u001b[0;34m=\u001b[0m\u001b[0mtolerance\u001b[0m\u001b[0;34m)\u001b[0m\u001b[0;34m\u001b[0m\u001b[0;34m\u001b[0m\u001b[0m\n",
            "\u001b[0;32mpandas/_libs/index.pyx\u001b[0m in \u001b[0;36mpandas._libs.index.IndexEngine.get_loc\u001b[0;34m()\u001b[0m\n",
            "\u001b[0;32mpandas/_libs/index.pyx\u001b[0m in \u001b[0;36mpandas._libs.index.IndexEngine.get_loc\u001b[0;34m()\u001b[0m\n",
            "\u001b[0;32mpandas/_libs/hashtable_class_helper.pxi\u001b[0m in \u001b[0;36mpandas._libs.hashtable.PyObjectHashTable.get_item\u001b[0;34m()\u001b[0m\n",
            "\u001b[0;32mpandas/_libs/hashtable_class_helper.pxi\u001b[0m in \u001b[0;36mpandas._libs.hashtable.PyObjectHashTable.get_item\u001b[0;34m()\u001b[0m\n",
            "\u001b[0;31mKeyError\u001b[0m: 'saledate'"
          ]
        }
      ]
    },
    {
      "metadata": {
        "id": "qj1N6V911JVY",
        "colab_type": "code",
        "colab": {
          "base_uri": "https://localhost:8080/",
          "height": 119
        },
        "outputId": "92f6621b-4ae5-44d6-9c10-0c84ee5395f1"
      },
      "cell_type": "code",
      "source": [
        "df_raw.saleDayofweek.head()"
      ],
      "execution_count": 28,
      "outputs": [
        {
          "output_type": "execute_result",
          "data": {
            "text/plain": [
              "0    3\n",
              "1    4\n",
              "2    3\n",
              "3    3\n",
              "4    3\n",
              "Name: saleDayofweek, dtype: int64"
            ]
          },
          "metadata": {
            "tags": []
          },
          "execution_count": 28
        }
      ]
    },
    {
      "metadata": {
        "id": "qn2F2bfH1b-O",
        "colab_type": "code",
        "colab": {}
      },
      "cell_type": "code",
      "source": [
        "train_cats(df_raw)"
      ],
      "execution_count": 0,
      "outputs": []
    },
    {
      "metadata": {
        "id": "2nxEhHo91l6_",
        "colab_type": "code",
        "colab": {}
      },
      "cell_type": "code",
      "source": [
        "df_raw.UsageBand.cat.categories\n",
        "#Ordering the categories so it makes sense\n",
        "df_raw.UsageBand.cat.set_categories(['High', 'Medium', 'Low'], ordered=True, inplace = True)"
      ],
      "execution_count": 0,
      "outputs": []
    },
    {
      "metadata": {
        "id": "X3R1rupj2UEg",
        "colab_type": "code",
        "colab": {
          "base_uri": "https://localhost:8080/",
          "height": 394
        },
        "outputId": "3237bf7e-0463-4f92-cc59-d372e4b96979"
      },
      "cell_type": "code",
      "source": [
        "display_all(df_raw.tail())"
      ],
      "execution_count": 31,
      "outputs": [
        {
          "output_type": "display_data",
          "data": {
            "text/html": [
              "<div>\n",
              "<style scoped>\n",
              "    .dataframe tbody tr th:only-of-type {\n",
              "        vertical-align: middle;\n",
              "    }\n",
              "\n",
              "    .dataframe tbody tr th {\n",
              "        vertical-align: top;\n",
              "    }\n",
              "\n",
              "    .dataframe thead th {\n",
              "        text-align: right;\n",
              "    }\n",
              "</style>\n",
              "<table border=\"1\" class=\"dataframe\">\n",
              "  <thead>\n",
              "    <tr style=\"text-align: right;\">\n",
              "      <th></th>\n",
              "      <th>SalesID</th>\n",
              "      <th>SalePrice</th>\n",
              "      <th>MachineID</th>\n",
              "      <th>ModelID</th>\n",
              "      <th>datasource</th>\n",
              "      <th>auctioneerID</th>\n",
              "      <th>YearMade</th>\n",
              "      <th>MachineHoursCurrentMeter</th>\n",
              "      <th>UsageBand</th>\n",
              "      <th>fiModelDesc</th>\n",
              "      <th>fiBaseModel</th>\n",
              "      <th>fiSecondaryDesc</th>\n",
              "      <th>fiModelSeries</th>\n",
              "      <th>fiModelDescriptor</th>\n",
              "      <th>ProductSize</th>\n",
              "      <th>fiProductClassDesc</th>\n",
              "      <th>state</th>\n",
              "      <th>ProductGroup</th>\n",
              "      <th>ProductGroupDesc</th>\n",
              "      <th>Drive_System</th>\n",
              "      <th>Enclosure</th>\n",
              "      <th>Forks</th>\n",
              "      <th>Pad_Type</th>\n",
              "      <th>Ride_Control</th>\n",
              "      <th>Stick</th>\n",
              "      <th>Transmission</th>\n",
              "      <th>Turbocharged</th>\n",
              "      <th>Blade_Extension</th>\n",
              "      <th>Blade_Width</th>\n",
              "      <th>Enclosure_Type</th>\n",
              "      <th>Engine_Horsepower</th>\n",
              "      <th>Hydraulics</th>\n",
              "      <th>Pushblock</th>\n",
              "      <th>Ripper</th>\n",
              "      <th>Scarifier</th>\n",
              "      <th>Tip_Control</th>\n",
              "      <th>Tire_Size</th>\n",
              "      <th>Coupler</th>\n",
              "      <th>Coupler_System</th>\n",
              "      <th>Grouser_Tracks</th>\n",
              "      <th>Hydraulics_Flow</th>\n",
              "      <th>Track_Type</th>\n",
              "      <th>Undercarriage_Pad_Width</th>\n",
              "      <th>Stick_Length</th>\n",
              "      <th>Thumb</th>\n",
              "      <th>Pattern_Changer</th>\n",
              "      <th>Grouser_Type</th>\n",
              "      <th>Backhoe_Mounting</th>\n",
              "      <th>Blade_Type</th>\n",
              "      <th>Travel_Controls</th>\n",
              "      <th>Differential_Type</th>\n",
              "      <th>Steering_Controls</th>\n",
              "      <th>saleYear</th>\n",
              "      <th>saleMonth</th>\n",
              "      <th>saleWeek</th>\n",
              "      <th>saleDay</th>\n",
              "      <th>saleDayofweek</th>\n",
              "      <th>saleDayofyear</th>\n",
              "      <th>saleIs_month_end</th>\n",
              "      <th>saleIs_month_start</th>\n",
              "      <th>saleIs_quarter_end</th>\n",
              "      <th>saleIs_quarter_start</th>\n",
              "      <th>saleIs_year_end</th>\n",
              "      <th>saleIs_year_start</th>\n",
              "      <th>saleElapsed</th>\n",
              "    </tr>\n",
              "  </thead>\n",
              "  <tbody>\n",
              "    <tr>\n",
              "      <th>401120</th>\n",
              "      <td>6333336</td>\n",
              "      <td>2.225610</td>\n",
              "      <td>1840702</td>\n",
              "      <td>21439</td>\n",
              "      <td>149</td>\n",
              "      <td>1.0</td>\n",
              "      <td>2005</td>\n",
              "      <td>NaN</td>\n",
              "      <td>NaN</td>\n",
              "      <td>35NX2</td>\n",
              "      <td>35</td>\n",
              "      <td>NX</td>\n",
              "      <td>2</td>\n",
              "      <td>NaN</td>\n",
              "      <td>Mini</td>\n",
              "      <td>Hydraulic Excavator, Track - 3.0 to 4.0 Metric...</td>\n",
              "      <td>Maryland</td>\n",
              "      <td>TEX</td>\n",
              "      <td>Track Excavators</td>\n",
              "      <td>NaN</td>\n",
              "      <td>EROPS</td>\n",
              "      <td>NaN</td>\n",
              "      <td>NaN</td>\n",
              "      <td>NaN</td>\n",
              "      <td>NaN</td>\n",
              "      <td>NaN</td>\n",
              "      <td>NaN</td>\n",
              "      <td>NaN</td>\n",
              "      <td>NaN</td>\n",
              "      <td>NaN</td>\n",
              "      <td>NaN</td>\n",
              "      <td>Auxiliary</td>\n",
              "      <td>NaN</td>\n",
              "      <td>NaN</td>\n",
              "      <td>NaN</td>\n",
              "      <td>NaN</td>\n",
              "      <td>NaN</td>\n",
              "      <td>None or Unspecified</td>\n",
              "      <td>NaN</td>\n",
              "      <td>NaN</td>\n",
              "      <td>NaN</td>\n",
              "      <td>Steel</td>\n",
              "      <td>None or Unspecified</td>\n",
              "      <td>None or Unspecified</td>\n",
              "      <td>None or Unspecified</td>\n",
              "      <td>None or Unspecified</td>\n",
              "      <td>Double</td>\n",
              "      <td>NaN</td>\n",
              "      <td>NaN</td>\n",
              "      <td>NaN</td>\n",
              "      <td>NaN</td>\n",
              "      <td>NaN</td>\n",
              "      <td>2011</td>\n",
              "      <td>11</td>\n",
              "      <td>44</td>\n",
              "      <td>2</td>\n",
              "      <td>2</td>\n",
              "      <td>306</td>\n",
              "      <td>False</td>\n",
              "      <td>False</td>\n",
              "      <td>False</td>\n",
              "      <td>False</td>\n",
              "      <td>False</td>\n",
              "      <td>False</td>\n",
              "      <td>1320192000</td>\n",
              "    </tr>\n",
              "    <tr>\n",
              "      <th>401121</th>\n",
              "      <td>6333337</td>\n",
              "      <td>2.230622</td>\n",
              "      <td>1830472</td>\n",
              "      <td>21439</td>\n",
              "      <td>149</td>\n",
              "      <td>1.0</td>\n",
              "      <td>2005</td>\n",
              "      <td>NaN</td>\n",
              "      <td>NaN</td>\n",
              "      <td>35NX2</td>\n",
              "      <td>35</td>\n",
              "      <td>NX</td>\n",
              "      <td>2</td>\n",
              "      <td>NaN</td>\n",
              "      <td>Mini</td>\n",
              "      <td>Hydraulic Excavator, Track - 3.0 to 4.0 Metric...</td>\n",
              "      <td>Maryland</td>\n",
              "      <td>TEX</td>\n",
              "      <td>Track Excavators</td>\n",
              "      <td>NaN</td>\n",
              "      <td>EROPS</td>\n",
              "      <td>NaN</td>\n",
              "      <td>NaN</td>\n",
              "      <td>NaN</td>\n",
              "      <td>NaN</td>\n",
              "      <td>NaN</td>\n",
              "      <td>NaN</td>\n",
              "      <td>NaN</td>\n",
              "      <td>NaN</td>\n",
              "      <td>NaN</td>\n",
              "      <td>NaN</td>\n",
              "      <td>Standard</td>\n",
              "      <td>NaN</td>\n",
              "      <td>NaN</td>\n",
              "      <td>NaN</td>\n",
              "      <td>NaN</td>\n",
              "      <td>NaN</td>\n",
              "      <td>None or Unspecified</td>\n",
              "      <td>NaN</td>\n",
              "      <td>NaN</td>\n",
              "      <td>NaN</td>\n",
              "      <td>Steel</td>\n",
              "      <td>None or Unspecified</td>\n",
              "      <td>None or Unspecified</td>\n",
              "      <td>None or Unspecified</td>\n",
              "      <td>None or Unspecified</td>\n",
              "      <td>Double</td>\n",
              "      <td>NaN</td>\n",
              "      <td>NaN</td>\n",
              "      <td>NaN</td>\n",
              "      <td>NaN</td>\n",
              "      <td>NaN</td>\n",
              "      <td>2011</td>\n",
              "      <td>11</td>\n",
              "      <td>44</td>\n",
              "      <td>2</td>\n",
              "      <td>2</td>\n",
              "      <td>306</td>\n",
              "      <td>False</td>\n",
              "      <td>False</td>\n",
              "      <td>False</td>\n",
              "      <td>False</td>\n",
              "      <td>False</td>\n",
              "      <td>False</td>\n",
              "      <td>1320192000</td>\n",
              "    </tr>\n",
              "    <tr>\n",
              "      <th>401122</th>\n",
              "      <td>6333338</td>\n",
              "      <td>2.235387</td>\n",
              "      <td>1887659</td>\n",
              "      <td>21439</td>\n",
              "      <td>149</td>\n",
              "      <td>1.0</td>\n",
              "      <td>2005</td>\n",
              "      <td>NaN</td>\n",
              "      <td>NaN</td>\n",
              "      <td>35NX2</td>\n",
              "      <td>35</td>\n",
              "      <td>NX</td>\n",
              "      <td>2</td>\n",
              "      <td>NaN</td>\n",
              "      <td>Mini</td>\n",
              "      <td>Hydraulic Excavator, Track - 3.0 to 4.0 Metric...</td>\n",
              "      <td>Maryland</td>\n",
              "      <td>TEX</td>\n",
              "      <td>Track Excavators</td>\n",
              "      <td>NaN</td>\n",
              "      <td>EROPS</td>\n",
              "      <td>NaN</td>\n",
              "      <td>NaN</td>\n",
              "      <td>NaN</td>\n",
              "      <td>NaN</td>\n",
              "      <td>NaN</td>\n",
              "      <td>NaN</td>\n",
              "      <td>NaN</td>\n",
              "      <td>NaN</td>\n",
              "      <td>NaN</td>\n",
              "      <td>NaN</td>\n",
              "      <td>Auxiliary</td>\n",
              "      <td>NaN</td>\n",
              "      <td>NaN</td>\n",
              "      <td>NaN</td>\n",
              "      <td>NaN</td>\n",
              "      <td>NaN</td>\n",
              "      <td>None or Unspecified</td>\n",
              "      <td>NaN</td>\n",
              "      <td>NaN</td>\n",
              "      <td>NaN</td>\n",
              "      <td>Steel</td>\n",
              "      <td>None or Unspecified</td>\n",
              "      <td>None or Unspecified</td>\n",
              "      <td>None or Unspecified</td>\n",
              "      <td>None or Unspecified</td>\n",
              "      <td>Double</td>\n",
              "      <td>NaN</td>\n",
              "      <td>NaN</td>\n",
              "      <td>NaN</td>\n",
              "      <td>NaN</td>\n",
              "      <td>NaN</td>\n",
              "      <td>2011</td>\n",
              "      <td>11</td>\n",
              "      <td>44</td>\n",
              "      <td>2</td>\n",
              "      <td>2</td>\n",
              "      <td>306</td>\n",
              "      <td>False</td>\n",
              "      <td>False</td>\n",
              "      <td>False</td>\n",
              "      <td>False</td>\n",
              "      <td>False</td>\n",
              "      <td>False</td>\n",
              "      <td>1320192000</td>\n",
              "    </tr>\n",
              "    <tr>\n",
              "      <th>401123</th>\n",
              "      <td>6333341</td>\n",
              "      <td>2.208822</td>\n",
              "      <td>1903570</td>\n",
              "      <td>21435</td>\n",
              "      <td>149</td>\n",
              "      <td>2.0</td>\n",
              "      <td>2005</td>\n",
              "      <td>NaN</td>\n",
              "      <td>NaN</td>\n",
              "      <td>30NX</td>\n",
              "      <td>30</td>\n",
              "      <td>NX</td>\n",
              "      <td>NaN</td>\n",
              "      <td>NaN</td>\n",
              "      <td>Mini</td>\n",
              "      <td>Hydraulic Excavator, Track - 2.0 to 3.0 Metric...</td>\n",
              "      <td>Florida</td>\n",
              "      <td>TEX</td>\n",
              "      <td>Track Excavators</td>\n",
              "      <td>NaN</td>\n",
              "      <td>EROPS</td>\n",
              "      <td>NaN</td>\n",
              "      <td>NaN</td>\n",
              "      <td>NaN</td>\n",
              "      <td>NaN</td>\n",
              "      <td>NaN</td>\n",
              "      <td>NaN</td>\n",
              "      <td>NaN</td>\n",
              "      <td>NaN</td>\n",
              "      <td>NaN</td>\n",
              "      <td>NaN</td>\n",
              "      <td>Standard</td>\n",
              "      <td>NaN</td>\n",
              "      <td>NaN</td>\n",
              "      <td>NaN</td>\n",
              "      <td>NaN</td>\n",
              "      <td>NaN</td>\n",
              "      <td>None or Unspecified</td>\n",
              "      <td>NaN</td>\n",
              "      <td>NaN</td>\n",
              "      <td>NaN</td>\n",
              "      <td>Steel</td>\n",
              "      <td>None or Unspecified</td>\n",
              "      <td>None or Unspecified</td>\n",
              "      <td>None or Unspecified</td>\n",
              "      <td>None or Unspecified</td>\n",
              "      <td>Double</td>\n",
              "      <td>NaN</td>\n",
              "      <td>NaN</td>\n",
              "      <td>NaN</td>\n",
              "      <td>NaN</td>\n",
              "      <td>NaN</td>\n",
              "      <td>2011</td>\n",
              "      <td>10</td>\n",
              "      <td>43</td>\n",
              "      <td>25</td>\n",
              "      <td>1</td>\n",
              "      <td>298</td>\n",
              "      <td>False</td>\n",
              "      <td>False</td>\n",
              "      <td>False</td>\n",
              "      <td>False</td>\n",
              "      <td>False</td>\n",
              "      <td>False</td>\n",
              "      <td>1319500800</td>\n",
              "    </tr>\n",
              "    <tr>\n",
              "      <th>401124</th>\n",
              "      <td>6333342</td>\n",
              "      <td>2.192262</td>\n",
              "      <td>1926965</td>\n",
              "      <td>21435</td>\n",
              "      <td>149</td>\n",
              "      <td>2.0</td>\n",
              "      <td>2005</td>\n",
              "      <td>NaN</td>\n",
              "      <td>NaN</td>\n",
              "      <td>30NX</td>\n",
              "      <td>30</td>\n",
              "      <td>NX</td>\n",
              "      <td>NaN</td>\n",
              "      <td>NaN</td>\n",
              "      <td>Mini</td>\n",
              "      <td>Hydraulic Excavator, Track - 2.0 to 3.0 Metric...</td>\n",
              "      <td>Florida</td>\n",
              "      <td>TEX</td>\n",
              "      <td>Track Excavators</td>\n",
              "      <td>NaN</td>\n",
              "      <td>EROPS</td>\n",
              "      <td>NaN</td>\n",
              "      <td>NaN</td>\n",
              "      <td>NaN</td>\n",
              "      <td>NaN</td>\n",
              "      <td>NaN</td>\n",
              "      <td>NaN</td>\n",
              "      <td>NaN</td>\n",
              "      <td>NaN</td>\n",
              "      <td>NaN</td>\n",
              "      <td>NaN</td>\n",
              "      <td>Standard</td>\n",
              "      <td>NaN</td>\n",
              "      <td>NaN</td>\n",
              "      <td>NaN</td>\n",
              "      <td>NaN</td>\n",
              "      <td>NaN</td>\n",
              "      <td>None or Unspecified</td>\n",
              "      <td>NaN</td>\n",
              "      <td>NaN</td>\n",
              "      <td>NaN</td>\n",
              "      <td>Steel</td>\n",
              "      <td>None or Unspecified</td>\n",
              "      <td>None or Unspecified</td>\n",
              "      <td>None or Unspecified</td>\n",
              "      <td>None or Unspecified</td>\n",
              "      <td>Double</td>\n",
              "      <td>NaN</td>\n",
              "      <td>NaN</td>\n",
              "      <td>NaN</td>\n",
              "      <td>NaN</td>\n",
              "      <td>NaN</td>\n",
              "      <td>2011</td>\n",
              "      <td>10</td>\n",
              "      <td>43</td>\n",
              "      <td>25</td>\n",
              "      <td>1</td>\n",
              "      <td>298</td>\n",
              "      <td>False</td>\n",
              "      <td>False</td>\n",
              "      <td>False</td>\n",
              "      <td>False</td>\n",
              "      <td>False</td>\n",
              "      <td>False</td>\n",
              "      <td>1319500800</td>\n",
              "    </tr>\n",
              "  </tbody>\n",
              "</table>\n",
              "</div>"
            ],
            "text/plain": [
              "        SalesID  SalePrice  MachineID  ModelID  datasource  auctioneerID  \\\n",
              "401120  6333336   2.225610    1840702    21439         149           1.0   \n",
              "401121  6333337   2.230622    1830472    21439         149           1.0   \n",
              "401122  6333338   2.235387    1887659    21439         149           1.0   \n",
              "401123  6333341   2.208822    1903570    21435         149           2.0   \n",
              "401124  6333342   2.192262    1926965    21435         149           2.0   \n",
              "\n",
              "        YearMade  MachineHoursCurrentMeter UsageBand fiModelDesc fiBaseModel  \\\n",
              "401120      2005                       NaN       NaN       35NX2          35   \n",
              "401121      2005                       NaN       NaN       35NX2          35   \n",
              "401122      2005                       NaN       NaN       35NX2          35   \n",
              "401123      2005                       NaN       NaN        30NX          30   \n",
              "401124      2005                       NaN       NaN        30NX          30   \n",
              "\n",
              "       fiSecondaryDesc fiModelSeries fiModelDescriptor ProductSize  \\\n",
              "401120              NX             2               NaN        Mini   \n",
              "401121              NX             2               NaN        Mini   \n",
              "401122              NX             2               NaN        Mini   \n",
              "401123              NX           NaN               NaN        Mini   \n",
              "401124              NX           NaN               NaN        Mini   \n",
              "\n",
              "                                       fiProductClassDesc     state  \\\n",
              "401120  Hydraulic Excavator, Track - 3.0 to 4.0 Metric...  Maryland   \n",
              "401121  Hydraulic Excavator, Track - 3.0 to 4.0 Metric...  Maryland   \n",
              "401122  Hydraulic Excavator, Track - 3.0 to 4.0 Metric...  Maryland   \n",
              "401123  Hydraulic Excavator, Track - 2.0 to 3.0 Metric...   Florida   \n",
              "401124  Hydraulic Excavator, Track - 2.0 to 3.0 Metric...   Florida   \n",
              "\n",
              "       ProductGroup  ProductGroupDesc Drive_System Enclosure Forks Pad_Type  \\\n",
              "401120          TEX  Track Excavators          NaN     EROPS   NaN      NaN   \n",
              "401121          TEX  Track Excavators          NaN     EROPS   NaN      NaN   \n",
              "401122          TEX  Track Excavators          NaN     EROPS   NaN      NaN   \n",
              "401123          TEX  Track Excavators          NaN     EROPS   NaN      NaN   \n",
              "401124          TEX  Track Excavators          NaN     EROPS   NaN      NaN   \n",
              "\n",
              "       Ride_Control Stick Transmission Turbocharged Blade_Extension  \\\n",
              "401120          NaN   NaN          NaN          NaN             NaN   \n",
              "401121          NaN   NaN          NaN          NaN             NaN   \n",
              "401122          NaN   NaN          NaN          NaN             NaN   \n",
              "401123          NaN   NaN          NaN          NaN             NaN   \n",
              "401124          NaN   NaN          NaN          NaN             NaN   \n",
              "\n",
              "       Blade_Width Enclosure_Type Engine_Horsepower Hydraulics Pushblock  \\\n",
              "401120         NaN            NaN               NaN  Auxiliary       NaN   \n",
              "401121         NaN            NaN               NaN   Standard       NaN   \n",
              "401122         NaN            NaN               NaN  Auxiliary       NaN   \n",
              "401123         NaN            NaN               NaN   Standard       NaN   \n",
              "401124         NaN            NaN               NaN   Standard       NaN   \n",
              "\n",
              "       Ripper Scarifier Tip_Control Tire_Size              Coupler  \\\n",
              "401120    NaN       NaN         NaN       NaN  None or Unspecified   \n",
              "401121    NaN       NaN         NaN       NaN  None or Unspecified   \n",
              "401122    NaN       NaN         NaN       NaN  None or Unspecified   \n",
              "401123    NaN       NaN         NaN       NaN  None or Unspecified   \n",
              "401124    NaN       NaN         NaN       NaN  None or Unspecified   \n",
              "\n",
              "       Coupler_System Grouser_Tracks Hydraulics_Flow Track_Type  \\\n",
              "401120            NaN            NaN             NaN      Steel   \n",
              "401121            NaN            NaN             NaN      Steel   \n",
              "401122            NaN            NaN             NaN      Steel   \n",
              "401123            NaN            NaN             NaN      Steel   \n",
              "401124            NaN            NaN             NaN      Steel   \n",
              "\n",
              "       Undercarriage_Pad_Width         Stick_Length                Thumb  \\\n",
              "401120     None or Unspecified  None or Unspecified  None or Unspecified   \n",
              "401121     None or Unspecified  None or Unspecified  None or Unspecified   \n",
              "401122     None or Unspecified  None or Unspecified  None or Unspecified   \n",
              "401123     None or Unspecified  None or Unspecified  None or Unspecified   \n",
              "401124     None or Unspecified  None or Unspecified  None or Unspecified   \n",
              "\n",
              "            Pattern_Changer Grouser_Type Backhoe_Mounting Blade_Type  \\\n",
              "401120  None or Unspecified       Double              NaN        NaN   \n",
              "401121  None or Unspecified       Double              NaN        NaN   \n",
              "401122  None or Unspecified       Double              NaN        NaN   \n",
              "401123  None or Unspecified       Double              NaN        NaN   \n",
              "401124  None or Unspecified       Double              NaN        NaN   \n",
              "\n",
              "       Travel_Controls Differential_Type Steering_Controls  saleYear  \\\n",
              "401120             NaN               NaN               NaN      2011   \n",
              "401121             NaN               NaN               NaN      2011   \n",
              "401122             NaN               NaN               NaN      2011   \n",
              "401123             NaN               NaN               NaN      2011   \n",
              "401124             NaN               NaN               NaN      2011   \n",
              "\n",
              "        saleMonth  saleWeek  saleDay  saleDayofweek  saleDayofyear  \\\n",
              "401120         11        44        2              2            306   \n",
              "401121         11        44        2              2            306   \n",
              "401122         11        44        2              2            306   \n",
              "401123         10        43       25              1            298   \n",
              "401124         10        43       25              1            298   \n",
              "\n",
              "        saleIs_month_end  saleIs_month_start  saleIs_quarter_end  \\\n",
              "401120             False               False               False   \n",
              "401121             False               False               False   \n",
              "401122             False               False               False   \n",
              "401123             False               False               False   \n",
              "401124             False               False               False   \n",
              "\n",
              "        saleIs_quarter_start  saleIs_year_end  saleIs_year_start  saleElapsed  \n",
              "401120                 False            False              False   1320192000  \n",
              "401121                 False            False              False   1320192000  \n",
              "401122                 False            False              False   1320192000  \n",
              "401123                 False            False              False   1319500800  \n",
              "401124                 False            False              False   1319500800  "
            ]
          },
          "metadata": {
            "tags": []
          }
        }
      ]
    },
    {
      "metadata": {
        "id": "ZN8jBBBN2_br",
        "colab_type": "code",
        "colab": {}
      },
      "cell_type": "code",
      "source": [
        "df, y, nas = proc_df(df_raw, 'SalePrice')"
      ],
      "execution_count": 0,
      "outputs": []
    },
    {
      "metadata": {
        "id": "iJd6kt5G4RLu",
        "colab_type": "code",
        "colab": {
          "base_uri": "https://localhost:8080/",
          "height": 323
        },
        "outputId": "e930de14-be50-46fd-a209-036f304ba674"
      },
      "cell_type": "code",
      "source": [
        "df.columns"
      ],
      "execution_count": 33,
      "outputs": [
        {
          "output_type": "execute_result",
          "data": {
            "text/plain": [
              "Index(['SalesID', 'MachineID', 'ModelID', 'datasource', 'auctioneerID',\n",
              "       'YearMade', 'MachineHoursCurrentMeter', 'UsageBand', 'fiModelDesc',\n",
              "       'fiBaseModel', 'fiSecondaryDesc', 'fiModelSeries', 'fiModelDescriptor',\n",
              "       'ProductSize', 'fiProductClassDesc', 'state', 'ProductGroup',\n",
              "       'ProductGroupDesc', 'Drive_System', 'Enclosure', 'Forks', 'Pad_Type',\n",
              "       'Ride_Control', 'Stick', 'Transmission', 'Turbocharged',\n",
              "       'Blade_Extension', 'Blade_Width', 'Enclosure_Type', 'Engine_Horsepower',\n",
              "       'Hydraulics', 'Pushblock', 'Ripper', 'Scarifier', 'Tip_Control',\n",
              "       'Tire_Size', 'Coupler', 'Coupler_System', 'Grouser_Tracks',\n",
              "       'Hydraulics_Flow', 'Track_Type', 'Undercarriage_Pad_Width',\n",
              "       'Stick_Length', 'Thumb', 'Pattern_Changer', 'Grouser_Type',\n",
              "       'Backhoe_Mounting', 'Blade_Type', 'Travel_Controls',\n",
              "       'Differential_Type', 'Steering_Controls', 'saleYear', 'saleMonth',\n",
              "       'saleWeek', 'saleDay', 'saleDayofweek', 'saleDayofyear',\n",
              "       'saleIs_month_end', 'saleIs_month_start', 'saleIs_quarter_end',\n",
              "       'saleIs_quarter_start', 'saleIs_year_end', 'saleIs_year_start',\n",
              "       'saleElapsed', 'auctioneerID_na', 'MachineHoursCurrentMeter_na'],\n",
              "      dtype='object')"
            ]
          },
          "metadata": {
            "tags": []
          },
          "execution_count": 33
        }
      ]
    },
    {
      "metadata": {
        "id": "IqCK_I9odC7f",
        "colab_type": "text"
      },
      "cell_type": "markdown",
      "source": [
        ""
      ]
    },
    {
      "metadata": {
        "id": "MdsEd36V4bwt",
        "colab_type": "code",
        "colab": {
          "base_uri": "https://localhost:8080/",
          "height": 88
        },
        "outputId": "ce2bc800-4054-44ff-d35d-5465bef80d2c"
      },
      "cell_type": "code",
      "source": [
        "m = RandomForestRegressor(n_jobs = -1)\n",
        "m.fit(df, y)\n",
        "m.score(df,y)"
      ],
      "execution_count": 34,
      "outputs": [
        {
          "output_type": "stream",
          "text": [
            "/usr/local/lib/python3.6/dist-packages/sklearn/ensemble/forest.py:246: FutureWarning: The default value of n_estimators will change from 10 in version 0.20 to 100 in 0.22.\n",
            "  \"10 in version 0.20 to 100 in 0.22.\", FutureWarning)\n"
          ],
          "name": "stderr"
        },
        {
          "output_type": "execute_result",
          "data": {
            "text/plain": [
              "0.9826554636698824"
            ]
          },
          "metadata": {
            "tags": []
          },
          "execution_count": 34
        }
      ]
    },
    {
      "metadata": {
        "id": "55d9lOqMAKjb",
        "colab_type": "code",
        "colab": {
          "base_uri": "https://localhost:8080/",
          "height": 34
        },
        "outputId": "77deddae-0c7c-41ac-dd24-0f38316bc269"
      },
      "cell_type": "code",
      "source": [
        "def split_vals(a,n): return a[:n].copy(), a[n:].copy()\n",
        "n_valid = 12000\n",
        "n_trn = len(df)-n_valid\n",
        "raw_train, raw_valid = split_vals(df_raw, n_trn)\n",
        "X_train, X_valid = split_vals(df, n_trn)\n",
        "y_train, y_valid = split_vals(y, n_trn)\n",
        "\n",
        "X_train.shape, y_train.shape, X_valid.shape"
      ],
      "execution_count": 35,
      "outputs": [
        {
          "output_type": "execute_result",
          "data": {
            "text/plain": [
              "((389125, 66), (389125,), (12000, 66))"
            ]
          },
          "metadata": {
            "tags": []
          },
          "execution_count": 35
        }
      ]
    },
    {
      "metadata": {
        "id": "9SFw5HceZ2Z8",
        "colab_type": "code",
        "colab": {}
      },
      "cell_type": "code",
      "source": [
        "def rmse(x,y): return math.sqrt(((x-y)**2).mean())\n",
        "\n",
        "def print_score(m):\n",
        "  res = [rmse(m.predict(X_train), y_train), rmse(m.predict(X_valid), y_valid),\n",
        "        m.score(X_train, y_train), m.score(X_valid, y_valid)]\n",
        "  if hasattr(m, 'oob_score_'): res.append(m.oob_score_)\n",
        "  print(res)"
      ],
      "execution_count": 0,
      "outputs": []
    },
    {
      "metadata": {
        "id": "dWupW9K-d2GS",
        "colab_type": "code",
        "colab": {
          "base_uri": "https://localhost:8080/",
          "height": 122
        },
        "outputId": "11ed7be6-33aa-498c-fa46-a0708e8523a2"
      },
      "cell_type": "code",
      "source": [
        "m = RandomForestRegressor(n_jobs=-1)\n",
        "%time m.fit(X_train, y_train)\n",
        "print_score(m)"
      ],
      "execution_count": 37,
      "outputs": [
        {
          "output_type": "stream",
          "text": [
            "/usr/local/lib/python3.6/dist-packages/sklearn/ensemble/forest.py:246: FutureWarning: The default value of n_estimators will change from 10 in version 0.20 to 100 in 0.22.\n",
            "  \"10 in version 0.20 to 100 in 0.22.\", FutureWarning)\n"
          ],
          "name": "stderr"
        },
        {
          "output_type": "stream",
          "text": [
            "CPU times: user 1min 40s, sys: 113 ms, total: 1min 40s\n",
            "Wall time: 51.2 s\n",
            "[0.00904799968706548, 0.025231904181277038, 0.9825004414421895, 0.8845853770431956]\n"
          ],
          "name": "stdout"
        }
      ]
    },
    {
      "metadata": {
        "id": "pjrU_C2KgTo_",
        "colab_type": "code",
        "colab": {}
      },
      "cell_type": "code",
      "source": [
        "df_trn, y_trn, _ = proc_df(df_raw, 'SalePrice', subset=30000)\n",
        "X_train, _ = split_vals(df_trn,20000)\n",
        "y_train, _ = split_vals(y_trn, 20000)"
      ],
      "execution_count": 0,
      "outputs": []
    },
    {
      "metadata": {
        "id": "w2z5moHxhDHx",
        "colab_type": "code",
        "colab": {
          "base_uri": "https://localhost:8080/",
          "height": 122
        },
        "outputId": "8f1f39df-4c61-4474-dea3-3ce7e6f91d28"
      },
      "cell_type": "code",
      "source": [
        "m = RandomForestRegressor(n_jobs=1)\n",
        "%time m.fit(X_train, y_train)\n",
        "print_score(m)"
      ],
      "execution_count": 39,
      "outputs": [
        {
          "output_type": "stream",
          "text": [
            "/usr/local/lib/python3.6/dist-packages/sklearn/ensemble/forest.py:246: FutureWarning: The default value of n_estimators will change from 10 in version 0.20 to 100 in 0.22.\n",
            "  \"10 in version 0.20 to 100 in 0.22.\", FutureWarning)\n"
          ],
          "name": "stderr"
        },
        {
          "output_type": "stream",
          "text": [
            "CPU times: user 2.71 s, sys: 6.96 ms, total: 2.72 s\n",
            "Wall time: 2.72 s\n",
            "[0.011214280691652983, 0.037800137566473324, 0.9718482311531244, 0.7409715037134863]\n"
          ],
          "name": "stdout"
        }
      ]
    },
    {
      "metadata": {
        "id": "VYszFK8whVjt",
        "colab_type": "text"
      },
      "cell_type": "markdown",
      "source": [
        "##Single Tree"
      ]
    },
    {
      "metadata": {
        "id": "fAAT0oMvhX6n",
        "colab_type": "code",
        "colab": {
          "base_uri": "https://localhost:8080/",
          "height": 34
        },
        "outputId": "6c4cf606-78e2-4403-973c-703e4ec628c2"
      },
      "cell_type": "code",
      "source": [
        "m = RandomForestRegressor(n_jobs=1, n_estimators =1, max_depth = 3, bootstrap=False)\n",
        "m.fit(X_train, y_train)\n",
        "print_score(m)"
      ],
      "execution_count": 40,
      "outputs": [
        {
          "output_type": "stream",
          "text": [
            "[0.051246914962852656, 0.05738574655485091, 0.4121069908583358, 0.4030075269886477]\n"
          ],
          "name": "stdout"
        }
      ]
    },
    {
      "metadata": {
        "id": "KztFIWclhjc1",
        "colab_type": "code",
        "colab": {}
      },
      "cell_type": "code",
      "source": [
        "#draw_tree(m.estimators_[0], df_trn, precision=3)"
      ],
      "execution_count": 0,
      "outputs": []
    },
    {
      "metadata": {
        "id": "3jaZoz-guSAJ",
        "colab_type": "text"
      },
      "cell_type": "markdown",
      "source": [
        "##Bagging\n"
      ]
    },
    {
      "metadata": {
        "id": "W48whxDkuVSK",
        "colab_type": "code",
        "colab": {
          "base_uri": "https://localhost:8080/",
          "height": 88
        },
        "outputId": "757a5689-d905-4707-8e11-f89063538da8"
      },
      "cell_type": "code",
      "source": [
        "m = RandomForestRegressor(n_jobs=1)\n",
        "m.fit(X_train, y_train)\n",
        "print_score(m)"
      ],
      "execution_count": 42,
      "outputs": [
        {
          "output_type": "stream",
          "text": [
            "/usr/local/lib/python3.6/dist-packages/sklearn/ensemble/forest.py:246: FutureWarning: The default value of n_estimators will change from 10 in version 0.20 to 100 in 0.22.\n",
            "  \"10 in version 0.20 to 100 in 0.22.\", FutureWarning)\n"
          ],
          "name": "stderr"
        },
        {
          "output_type": "stream",
          "text": [
            "[0.011278307375760422, 0.040391264279110446, 0.9715258547216032, 0.7042425603401938]\n"
          ],
          "name": "stdout"
        }
      ]
    },
    {
      "metadata": {
        "id": "ywYGwGUEubL3",
        "colab_type": "code",
        "colab": {
          "base_uri": "https://localhost:8080/",
          "height": 68
        },
        "outputId": "855964c8-eb51-4ef5-ac37-a8de7cbc809c"
      },
      "cell_type": "code",
      "source": [
        "preds = np.stack([t.predict(X_valid) for t in m.estimators_])\n",
        "preds[:,0], np.mean(preds[:,0]), y_valid[0]"
      ],
      "execution_count": 43,
      "outputs": [
        {
          "output_type": "execute_result",
          "data": {
            "text/plain": [
              "(array([2.22033, 2.23303, 2.22033, 2.26341, 2.24427, 2.24841, 2.1958 , 2.31113, 2.22033, 2.19226]),\n",
              " 2.2349294835634734,\n",
              " 2.2088215008013257)"
            ]
          },
          "metadata": {
            "tags": []
          },
          "execution_count": 43
        }
      ]
    },
    {
      "metadata": {
        "id": "ARB-w6xBxd5G",
        "colab_type": "code",
        "colab": {
          "base_uri": "https://localhost:8080/",
          "height": 34
        },
        "outputId": "25adc0a5-c750-4a21-ccfe-41e7ecb49022"
      },
      "cell_type": "code",
      "source": [
        "preds.shape"
      ],
      "execution_count": 44,
      "outputs": [
        {
          "output_type": "execute_result",
          "data": {
            "text/plain": [
              "(10, 12000)"
            ]
          },
          "metadata": {
            "tags": []
          },
          "execution_count": 44
        }
      ]
    },
    {
      "metadata": {
        "id": "b8srjGkYCPyO",
        "colab_type": "text"
      },
      "cell_type": "markdown",
      "source": [
        "###Using Extra Trees Regressor"
      ]
    },
    {
      "metadata": {
        "id": "PoxZmOwF_--F",
        "colab_type": "code",
        "colab": {
          "base_uri": "https://localhost:8080/",
          "height": 88
        },
        "outputId": "97993e9a-1832-4e56-b577-4ff9c025621a"
      },
      "cell_type": "code",
      "source": [
        "from sklearn.ensemble import ExtraTreesRegressor\n",
        "e = RandomForestRegressor(n_jobs=1)\n",
        "e.fit(X_train, y_train)\n",
        "print_score(e)"
      ],
      "execution_count": 45,
      "outputs": [
        {
          "output_type": "stream",
          "text": [
            "/usr/local/lib/python3.6/dist-packages/sklearn/ensemble/forest.py:246: FutureWarning: The default value of n_estimators will change from 10 in version 0.20 to 100 in 0.22.\n",
            "  \"10 in version 0.20 to 100 in 0.22.\", FutureWarning)\n"
          ],
          "name": "stderr"
        },
        {
          "output_type": "stream",
          "text": [
            "[0.011265640011991804, 0.03694992160741339, 0.9715897809449802, 0.7524928061504472]\n"
          ],
          "name": "stdout"
        }
      ]
    },
    {
      "metadata": {
        "id": "AbW2xOYRHoW6",
        "colab_type": "text"
      },
      "cell_type": "markdown",
      "source": [
        "###Plotting the predictions"
      ]
    },
    {
      "metadata": {
        "id": "m_Dn0KYGDDbL",
        "colab_type": "code",
        "colab": {
          "base_uri": "https://localhost:8080/",
          "height": 364
        },
        "outputId": "fd106aed-c8be-469b-c6d2-bd9aebd92f3e"
      },
      "cell_type": "code",
      "source": [
        "plt.plot([metrics.r2_score(y_valid, np.mean(preds[:i+1], axis = 0)) for i in range(10)])"
      ],
      "execution_count": 46,
      "outputs": [
        {
          "output_type": "execute_result",
          "data": {
            "text/plain": [
              "[<matplotlib.lines.Line2D at 0x7f0022f88470>]"
            ]
          },
          "metadata": {
            "tags": []
          },
          "execution_count": 46
        },
        {
          "output_type": "display_data",
          "data": {
            "image/png": "[encoded data removed]",
            "text/plain": [
              "<matplotlib.figure.Figure at 0x7f002624c908>"
            ]
          },
          "metadata": {
            "tags": []
          }
        }
      ]
    },
    {
      "metadata": {
        "id": "uVVNrn_NGaxf",
        "colab_type": "code",
        "colab": {
          "base_uri": "https://localhost:8080/",
          "height": 34
        },
        "outputId": "9e29538f-9e63-4a9b-9426-70a3bef247d7"
      },
      "cell_type": "code",
      "source": [
        "m = RandomForestRegressor(n_jobs=1,  n_estimators =20)\n",
        "m.fit(X_train, y_train)\n",
        "print_score(m)"
      ],
      "execution_count": 47,
      "outputs": [
        {
          "output_type": "stream",
          "text": [
            "[0.010286238348229204, 0.03703090516336145, 0.9763148570517116, 0.7514066886621823]\n"
          ],
          "name": "stdout"
        }
      ]
    },
    {
      "metadata": {
        "id": "Gt-gG1pDFKQQ",
        "colab_type": "code",
        "colab": {
          "base_uri": "https://localhost:8080/",
          "height": 85
        },
        "outputId": "0d0c2725-eb3f-495c-ab3d-dffb49f005b4"
      },
      "cell_type": "code",
      "source": [
        "preds = np.stack([t.predict(X_valid) for t in m.estimators_])\n",
        "preds[:,0], np.mean(preds[:,0]), y_valid[0]"
      ],
      "execution_count": 48,
      "outputs": [
        {
          "output_type": "execute_result",
          "data": {
            "text/plain": [
              "(array([2.23539, 2.1958 , 2.26341, 2.2701 , 2.20882, 2.1958 , 2.23539, 2.25239, 2.1958 , 2.23539, 2.1958 ,\n",
              "        2.1958 , 2.19008, 2.19008, 2.1958 , 2.1958 , 2.20882, 2.1958 , 2.28769, 2.21474]),\n",
              " 2.2179349947245415,\n",
              " 2.2088215008013257)"
            ]
          },
          "metadata": {
            "tags": []
          },
          "execution_count": 48
        }
      ]
    },
    {
      "metadata": {
        "id": "HYlK0h6MG5D9",
        "colab_type": "code",
        "colab": {
          "base_uri": "https://localhost:8080/",
          "height": 364
        },
        "outputId": "a2979496-aa70-4274-d6ac-a4df542786f6"
      },
      "cell_type": "code",
      "source": [
        "plt.plot([metrics.r2_score(y_valid, np.mean(preds[:i+1], axis = 0)) for i in range(20)])"
      ],
      "execution_count": 49,
      "outputs": [
        {
          "output_type": "execute_result",
          "data": {
            "text/plain": [
              "[<matplotlib.lines.Line2D at 0x7f0022fd4358>]"
            ]
          },
          "metadata": {
            "tags": []
          },
          "execution_count": 49
        },
        {
          "output_type": "display_data",
          "data": {
            "image/png": "[encoded data removed]",
            "text/plain": [
              "<matplotlib.figure.Figure at 0x7f0026250be0>"
            ]
          },
          "metadata": {
            "tags": []
          }
        }
      ]
    },
    {
      "metadata": {
        "id": "PhcPdV8tHCDV",
        "colab_type": "text"
      },
      "cell_type": "markdown",
      "source": [
        "###OOB(Out-of-bag) score"
      ]
    },
    {
      "metadata": {
        "id": "kMoTIlr_HIat",
        "colab_type": "code",
        "colab": {
          "base_uri": "https://localhost:8080/",
          "height": 34
        },
        "outputId": "6d34840a-838d-4fec-ce84-bafb111a17ec"
      },
      "cell_type": "code",
      "source": [
        "m = RandomForestRegressor(n_jobs=1,  n_estimators =40, oob_score = True)\n",
        "m.fit(X_train, y_train)\n",
        "print_score(m)"
      ],
      "execution_count": 50,
      "outputs": [
        {
          "output_type": "stream",
          "text": [
            "[0.009710528627773905, 0.036552052549879, 0.9788919269103329, 0.7577943206383494, 0.8503085409257034]\n"
          ],
          "name": "stdout"
        }
      ]
    },
    {
      "metadata": {
        "id": "6w4KzuWvyYIn",
        "colab_type": "text"
      },
      "cell_type": "markdown",
      "source": [
        "#Handling Over-fitting"
      ]
    },
    {
      "metadata": {
        "id": "1SwZwX1Ayy8n",
        "colab_type": "text"
      },
      "cell_type": "markdown",
      "source": [
        "###Sub-sampling"
      ]
    },
    {
      "metadata": {
        "id": "jhKR-BhUy01x",
        "colab_type": "code",
        "colab": {}
      },
      "cell_type": "code",
      "source": [
        "df_trn, y_trn, _ = proc_df(df_raw, 'SalePrice')\n",
        "X_train, X_valid = split_vals(df_trn, n_trn)\n",
        "y_train, y_valid = split_vals(y_trn, n_trn)"
      ],
      "execution_count": 0,
      "outputs": []
    },
    {
      "metadata": {
        "id": "6vNQ02UwzA1F",
        "colab_type": "code",
        "colab": {}
      },
      "cell_type": "code",
      "source": [
        "set_rf_samples(20000)"
      ],
      "execution_count": 0,
      "outputs": []
    },
    {
      "metadata": {
        "id": "9Eo9-fkz5KxD",
        "colab_type": "text"
      },
      "cell_type": "markdown",
      "source": [
        "###Running with 100 decision trees"
      ]
    },
    {
      "metadata": {
        "id": "pjBXSwzczNqF",
        "colab_type": "code",
        "colab": {
          "base_uri": "https://localhost:8080/",
          "height": 68
        },
        "outputId": "afd17149-dd14-45ed-bd6d-8ba6246080cc"
      },
      "cell_type": "code",
      "source": [
        "m = RandomForestRegressor(n_jobs=2,  n_estimators =100, oob_score = False)\n",
        "%time m.fit(X_train, y_train)\n",
        "print_score(m)"
      ],
      "execution_count": 53,
      "outputs": [
        {
          "output_type": "stream",
          "text": [
            "CPU times: user 1min 17s, sys: 99.4 ms, total: 1min 17s\n",
            "Wall time: 39.4 s\n",
            "[0.022389399217460342, 0.02618633855702999, 0.8928463868181907, 0.8756887765923964]\n"
          ],
          "name": "stdout"
        }
      ]
    },
    {
      "metadata": {
        "id": "VhkdozHR3mIP",
        "colab_type": "code",
        "colab": {
          "base_uri": "https://localhost:8080/",
          "height": 364
        },
        "outputId": "7d8853b1-33a2-47a4-af2a-8536ca9ce722"
      },
      "cell_type": "code",
      "source": [
        "preds = np.stack([t.predict(X_valid) for t in m.estimators_])\n",
        "preds[:,0], np.mean(preds[:,0]), y_valid[0]\n",
        "plt.plot([metrics.r2_score(y_valid, np.mean(preds[:i+1], axis = 0)) for i in range(100)])"
      ],
      "execution_count": 54,
      "outputs": [
        {
          "output_type": "execute_result",
          "data": {
            "text/plain": [
              "[<matplotlib.lines.Line2D at 0x7f00260bf630>]"
            ]
          },
          "metadata": {
            "tags": []
          },
          "execution_count": 54
        },
        {
          "output_type": "display_data",
          "data": {
            "image/png": "[encoded data removed]",
            "text/plain": [
              "<matplotlib.figure.Figure at 0x7f0022f9d550>"
            ]
          },
          "metadata": {
            "tags": []
          }
        }
      ]
    },
    {
      "metadata": {
        "id": "iFZYmfFG5TRK",
        "colab_type": "text"
      },
      "cell_type": "markdown",
      "source": [
        "###Running with 200 decision trees"
      ]
    },
    {
      "metadata": {
        "id": "c4VjZ6Gr401M",
        "colab_type": "code",
        "colab": {}
      },
      "cell_type": "code",
      "source": [
        "m = RandomForestRegressor(n_jobs=2,  n_estimators =200, oob_score = False)\n",
        "%time m.fit(X_train, y_train)\n",
        "print_score(m)"
      ],
      "execution_count": 0,
      "outputs": []
    },
    {
      "metadata": {
        "id": "zSrUX0RD5hIP",
        "colab_type": "code",
        "colab": {}
      },
      "cell_type": "code",
      "source": [
        "preds = np.stack([t.predict(X_valid) for t in m.estimators_])\n",
        "preds[:,0], np.mean(preds[:,0]), y_valid[0]\n",
        "plt.plot([metrics.r2_score(y_valid, np.mean(preds[:i+1], axis = 0)) for i in range(200)])"
      ],
      "execution_count": 0,
      "outputs": []
    },
    {
      "metadata": {
        "id": "NpZfzO435XKi",
        "colab_type": "text"
      },
      "cell_type": "markdown",
      "source": [
        "###Running with 4000 decision trees"
      ]
    },
    {
      "metadata": {
        "id": "4Mt6ykLp5u9k",
        "colab_type": "code",
        "colab": {}
      },
      "cell_type": "code",
      "source": [
        "m = RandomForestRegressor(n_jobs=2,  n_estimators =4000, oob_score = False)\n",
        "%time m.fit(X_train, y_train)\n",
        "print_score(m)"
      ],
      "execution_count": 0,
      "outputs": []
    },
    {
      "metadata": {
        "id": "O6HEt8ZT5zA2",
        "colab_type": "code",
        "colab": {}
      },
      "cell_type": "code",
      "source": [
        "preds = np.stack([t.predict(X_valid) for t in m.estimators_])\n",
        "preds[:,0], np.mean(preds[:,0]), y_valid[0]\n",
        "plt.plot([metrics.r2_score(y_valid, np.mean(preds[:i+1], axis = 0)) for i in range(4000)])"
      ],
      "execution_count": 0,
      "outputs": []
    },
    {
      "metadata": {
        "id": "OQ7WxlPz6efi",
        "colab_type": "text"
      },
      "cell_type": "markdown",
      "source": [
        "###Subsample size 40000"
      ]
    },
    {
      "metadata": {
        "id": "BOGlp2M96kKb",
        "colab_type": "code",
        "colab": {}
      },
      "cell_type": "code",
      "source": [
        "set_rf_samples(40000)"
      ],
      "execution_count": 0,
      "outputs": []
    },
    {
      "metadata": {
        "colab_type": "code",
        "id": "vfDj67SM6YjF",
        "colab": {}
      },
      "cell_type": "code",
      "source": [
        "m = RandomForestRegressor(n_jobs=2,  n_estimators =100, oob_score = False)\n",
        "%time m.fit(X_train, y_train)\n",
        "print_score(m)"
      ],
      "execution_count": 0,
      "outputs": []
    },
    {
      "metadata": {
        "colab_type": "code",
        "id": "YmyJj50X6YjJ",
        "colab": {}
      },
      "cell_type": "code",
      "source": [
        "preds = np.stack([t.predict(X_valid) for t in m.estimators_])\n",
        "preds[:,0], np.mean(preds[:,0]), y_valid[0]\n",
        "plt.plot([metrics.r2_score(y_valid, np.mean(preds[:i+1], axis = 0)) for i in range(100)])"
      ],
      "execution_count": 0,
      "outputs": []
    },
    {
      "metadata": {
        "colab_type": "text",
        "id": "tz8bS93x6YjM"
      },
      "cell_type": "markdown",
      "source": [
        "###Running with 200 decision trees"
      ]
    },
    {
      "metadata": {
        "colab_type": "code",
        "id": "7r89s_RF6YjM",
        "colab": {}
      },
      "cell_type": "code",
      "source": [
        "m = RandomForestRegressor(n_jobs=2,  n_estimators =200, oob_score = False)\n",
        "%time m.fit(X_train, y_train)\n",
        "print_score(m)"
      ],
      "execution_count": 0,
      "outputs": []
    },
    {
      "metadata": {
        "colab_type": "code",
        "id": "lraft2k76YjR",
        "colab": {}
      },
      "cell_type": "code",
      "source": [
        "preds = np.stack([t.predict(X_valid) for t in m.estimators_])\n",
        "preds[:,0], np.mean(preds[:,0]), y_valid[0]\n",
        "plt.plot([metrics.r2_score(y_valid, np.mean(preds[:i+1], axis = 0)) for i in range(200)])"
      ],
      "execution_count": 0,
      "outputs": []
    },
    {
      "metadata": {
        "colab_type": "text",
        "id": "KJPZm6Ir6YjT"
      },
      "cell_type": "markdown",
      "source": [
        "###Running with 4000 decision trees"
      ]
    },
    {
      "metadata": {
        "colab_type": "code",
        "id": "x3yVLElu6YjV",
        "colab": {}
      },
      "cell_type": "code",
      "source": [
        "m = RandomForestRegressor(n_jobs=2,  n_estimators =4000, oob_score = False)\n",
        "%time m.fit(X_train, y_train)\n",
        "print_score(m)"
      ],
      "execution_count": 0,
      "outputs": []
    },
    {
      "metadata": {
        "colab_type": "code",
        "id": "AT_H4EzQ6YjZ",
        "colab": {}
      },
      "cell_type": "code",
      "source": [
        "preds = np.stack([t.predict(X_valid) for t in m.estimators_])\n",
        "preds[:,0], np.mean(preds[:,0]), y_valid[0]\n",
        "plt.plot([metrics.r2_score(y_valid, np.mean(preds[:i+1], axis = 0)) for i in range(4000)])"
      ],
      "execution_count": 0,
      "outputs": []
    },
    {
      "metadata": {
        "id": "6dG9gvz6MYe1",
        "colab_type": "code",
        "colab": {}
      },
      "cell_type": "code",
      "source": [
        "reset_rf_samples()"
      ],
      "execution_count": 0,
      "outputs": []
    },
    {
      "metadata": {
        "id": "VsaZzbgZMzA6",
        "colab_type": "text"
      },
      "cell_type": "markdown",
      "source": [
        "##Tree building parameters"
      ]
    },
    {
      "metadata": {
        "id": "JFXod2BpM2BB",
        "colab_type": "code",
        "colab": {
          "base_uri": "https://localhost:8080/",
          "height": 88
        },
        "outputId": "d2a1baad-a9d7-4061-a10e-533ec1038bca"
      },
      "cell_type": "code",
      "source": [
        "m = RandomForestRegressor(n_jobs=-1,  n_estimators =40, oob_score = True)\n",
        "%time m.fit(X_train, y_train)\n",
        "print_score(m)"
      ],
      "execution_count": 60,
      "outputs": [
        {
          "output_type": "stream",
          "text": [
            "CPU times: user 38 s, sys: 296 ms, total: 38.2 s\n",
            "Wall time: 23.4 s\n",
            "[0.022631580932924576, 0.026473644770401053, 0.890515730500516, 0.8729460247264577, 0.8787308725173755]\n"
          ],
          "name": "stdout"
        }
      ]
    },
    {
      "metadata": {
        "id": "MKMKdkSpM9XO",
        "colab_type": "code",
        "colab": {
          "base_uri": "https://localhost:8080/",
          "height": 88
        },
        "outputId": "2c16decd-9350-4299-c3ab-cbaefc6d2e81"
      },
      "cell_type": "code",
      "source": [
        "m = RandomForestRegressor(n_jobs=-1, min_samples_leaf=3,  n_estimators =40, oob_score = True)\n",
        "%time m.fit(X_train, y_train)\n",
        "print_score(m)"
      ],
      "execution_count": 61,
      "outputs": [
        {
          "output_type": "stream",
          "text": [
            "CPU times: user 30.8 s, sys: 124 ms, total: 30.9 s\n",
            "Wall time: 18.9 s\n",
            "[0.023140364208810202, 0.0263551610996588, 0.8855377391738389, 0.8740807483027481, 0.8763610712646691]\n"
          ],
          "name": "stdout"
        }
      ]
    },
    {
      "metadata": {
        "id": "q7lH7wKecOds",
        "colab_type": "text"
      },
      "cell_type": "markdown",
      "source": [
        "\n",
        "Max_features - Does a column subsampling to build each tree. The columns are chosen randomly "
      ]
    },
    {
      "metadata": {
        "id": "O0fsayIeNXLY",
        "colab_type": "code",
        "colab": {
          "base_uri": "https://localhost:8080/",
          "height": 88
        },
        "outputId": "4f90ca25-5f66-4806-fd10-9bf607ccca9a"
      },
      "cell_type": "code",
      "source": [
        "m = RandomForestRegressor(n_jobs=-1, min_samples_leaf=3, max_features=0.7,  n_estimators =40, oob_score = True)\n",
        "%time m.fit(X_train, y_train)\n",
        "print_score(m)"
      ],
      "execution_count": 64,
      "outputs": [
        {
          "output_type": "stream",
          "text": [
            "CPU times: user 24.4 s, sys: 137 ms, total: 24.5 s\n",
            "Wall time: 15.7 s\n",
            "[0.02306846388851865, 0.026256492458649163, 0.8862479343515746, 0.8750218182008278, 0.8773973456758672]\n"
          ],
          "name": "stdout"
        }
      ]
    },
    {
      "metadata": {
        "id": "V-1a4PGVckkF",
        "colab_type": "code",
        "colab": {}
      },
      "cell_type": "code",
      "source": [
        ""
      ],
      "execution_count": 0,
      "outputs": []
    }
  ]
}